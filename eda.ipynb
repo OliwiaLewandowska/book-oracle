{
 "cells": [
  {
   "cell_type": "markdown",
   "metadata": {},
   "source": [
    "# Book-Oracle"
   ]
  },
  {
   "cell_type": "markdown",
   "metadata": {},
   "source": [
    "Book-Oracle is a book recommendation app which suggest books based on preferences."
   ]
  },
  {
   "cell_type": "markdown",
   "metadata": {},
   "source": [
    "## Import Libraries"
   ]
  },
  {
   "cell_type": "code",
   "execution_count": null,
   "metadata": {},
   "outputs": [],
   "source": [
    "import pandas as pd\n",
    "import numpy as np\n",
    "\n",
    "#Modelling\n",
    "from sklearn.preprocessing import MinMaxScaler, StandardScaler, RobustScaler, OneHotEncoder\n",
    "\n",
    "from sklearn.metrics import classification_report, accuracy_score, roc_auc_score, roc_curve, confusion_matrix, make_scorer, precision_score, recall_score, f1_score\n",
    "from sklearn.model_selection import train_test_split, GridSearchCV, RandomizedSearchCV\n",
    "from sklearn.feature_extraction.text import CountVectorizer, TfidfVectorizer\n",
    "from sklearn.pipeline import Pipeline\n",
    "\n",
    "#NLP\n",
    "import nltk\n",
    "\n",
    "#Plotting\n",
    "import matplotlib.pyplot as plt\n",
    "import seaborn as sns\n",
    "from matplotlib.ticker import PercentFormatter\n",
    "plt.rcParams.update({ \"figure.figsize\" : (8, 5),\"axes.facecolor\" : \"white\", \"axes.edgecolor\":  \"black\"})\n",
    "plt.rcParams[\"figure.facecolor\"]= \"w\"\n",
    "pd.plotting.register_matplotlib_converters()\n",
    "pd.set_option('display.float_format', lambda x: '%.3f' % x)\n",
    "pd.options.display.float_format = \"{:,.2f}\".format\n",
    "\n",
    "#Custom functions\n",
    "from data_cleaning import clean_ratings, clean_users, clean_books\n",
    "\n",
    "RSEED = 42\n",
    "\n",
    "import warnings\n",
    "warnings.filterwarnings('ignore')"
   ]
  },
  {
   "cell_type": "markdown",
   "metadata": {},
   "source": [
    "## Import Data"
   ]
  },
  {
   "cell_type": "code",
   "execution_count": null,
   "metadata": {},
   "outputs": [],
   "source": [
    "ratings_df = pd.read_csv('data/ratings.csv')\n",
    "books_df = pd.read_csv('data/books.csv')\n",
    "users_df = pd.read_csv('data/users.csv')\n",
    "\n",
    "print(\"Ratings table has {} rows and {} columns\".format(ratings_df.shape[0], ratings_df.shape[1]))\n",
    "print(\"Books table has {} rows and {} columns\".format(books_df.shape[0], books_df.shape[1]))\n",
    "print(\"Users table has {} rows and {} columns\".format(users_df.shape[0], users_df.shape[1]))"
   ]
  },
  {
   "cell_type": "markdown",
   "metadata": {},
   "source": [
    "## Data cleaning"
   ]
  },
  {
   "cell_type": "markdown",
   "metadata": {},
   "source": [
    "#### Clean Books Dataset"
   ]
  },
  {
   "cell_type": "code",
   "execution_count": null,
   "metadata": {},
   "outputs": [],
   "source": [
    "books_df, common_identifier_dict = clean_books(books_df)\n",
    "\n",
    "print(\"Books table has {} rows and {} columns\".format(books_df.shape[0], books_df.shape[1]))"
   ]
  },
  {
   "cell_type": "code",
   "execution_count": null,
   "metadata": {},
   "outputs": [],
   "source": [
    "books_df.head(3)"
   ]
  },
  {
   "cell_type": "markdown",
   "metadata": {},
   "source": [
    "#### Clean Ratings Dataset"
   ]
  },
  {
   "cell_type": "code",
   "execution_count": null,
   "metadata": {},
   "outputs": [],
   "source": [
    "ratings_df = clean_ratings(ratings_df)\n",
    "\n",
    "#assign common identifier and convert to int\n",
    "ratings_df['common_identifier'] = ratings_df['isbn'].map(common_identifier_dict)\n",
    "\n",
    "print(\"Ratings table has {} rows and {} columns\".format(ratings_df.shape[0], ratings_df.shape[1]))\n",
    "\n",
    "#check how many rows in ratings_df do not have a common identifier in books_df\n",
    "print(\"\")\n",
    "print(\"There are {} rows in ratings_df that do not have a common identifier in books_df\".format(ratings_df[~ratings_df['common_identifier'].isin(books_df['common_identifier'])].shape[0]))\n",
    "\n",
    "ratings_df.sort_values(by=\"common_identifier\", ascending=True).head(3)"
   ]
  },
  {
   "cell_type": "markdown",
   "metadata": {},
   "source": [
    "#### Clean Users Dataset"
   ]
  },
  {
   "cell_type": "code",
   "execution_count": null,
   "metadata": {},
   "outputs": [],
   "source": [
    "users_df = clean_users(users_df)\n",
    "\n",
    "print(\"Users table has {} rows and {} columns\".format(users_df.shape[0], users_df.shape[1]))\n",
    "users_df.head(3)"
   ]
  },
  {
   "cell_type": "markdown",
   "metadata": {},
   "source": [
    "## Merge tables"
   ]
  },
  {
   "cell_type": "code",
   "execution_count": null,
   "metadata": {},
   "outputs": [],
   "source": [
    "#Merge all tables\n",
    "df = books_df.merge(ratings_df, on='common_identifier', how='inner')\n",
    "df = df.merge(users_df, on='user_id', how='inner')\n",
    "\n",
    "#check for missing values\n",
    "print(\"There are {} missing values in df\".format(df.isnull().sum().sum()))\n",
    "\n",
    "#check for duplicates\n",
    "print(\"There are {} duplicates in df\".format(df.duplicated().sum()))\n",
    "\n",
    "df.head(3)"
   ]
  },
  {
   "cell_type": "code",
   "execution_count": null,
   "metadata": {},
   "outputs": [],
   "source": [
    "df.info()"
   ]
  },
  {
   "cell_type": "markdown",
   "metadata": {},
   "source": [
    "## Save cleaned data"
   ]
  },
  {
   "cell_type": "code",
   "execution_count": null,
   "metadata": {},
   "outputs": [],
   "source": [
    "df.to_csv('data/kaggle_full_df.csv', index=False)"
   ]
  },
  {
   "cell_type": "markdown",
   "metadata": {},
   "source": [
    "## Exploratory Data Analysis"
   ]
  },
  {
   "cell_type": "code",
   "execution_count": null,
   "metadata": {},
   "outputs": [],
   "source": [
    "#check for outliers\n",
    "df.describe()"
   ]
  },
  {
   "cell_type": "code",
   "execution_count": null,
   "metadata": {},
   "outputs": [],
   "source": [
    "#Book rating distribution\n",
    "fig, axes = plt.subplots(2, 2, figsize=(15, 10))\n",
    "sns.countplot(ax=axes[0, 0], x='book_rating', data=df, palette='hls')\n",
    "axes[0, 0].set_title('Distribution of book ratings')\n",
    "axes[0, 0].set_xlabel('Book rating')\n",
    "axes[0, 0].set_ylabel('Count')\n",
    "\n",
    "#User rating distribution\n",
    "sns.countplot(ax=axes[0, 1], x='age', data=df, palette='hls')\n",
    "axes[0, 1].set_title('Distribution of age')\n",
    "axes[0, 1].set_xlabel('Age')\n",
    "axes[0, 1].set_ylabel('Count')\n",
    "axes[0, 1].tick_params(axis='x', rotation=90)\n",
    "axes[0, 1].xaxis.set_major_locator(plt.MultipleLocator(5))\n",
    "\n",
    "#Top 15 countries\n",
    "sns.countplot(ax=axes[1, 0], y='country', data=df, palette='hls', order=df['country'].value_counts().iloc[:15].index)\n",
    "axes[1, 0].set_title('TOP 15 countries')\n",
    "axes[1, 0].set_xlabel('Count')\n",
    "axes[1, 0].set_ylabel('Country')\n",
    "\n",
    "#Top 15 cities\n",
    "sns.countplot(ax=axes[1, 1], y='city', data=df, palette='hls', order=df['city'].value_counts().iloc[:15].index)\n",
    "axes[1, 1].set_title('TOP 15 cities')\n",
    "axes[1, 1].set_xlabel('Count')\n",
    "axes[1, 1].set_ylabel('City')\n",
    "\n",
    "plt.subplots_adjust(hspace=0.5)\n",
    "\n",
    "#print percentage of users that come from English speaking countries\n",
    "\n",
    "print(\"Percentage of users that come from English speaking countries: {:.2f}%\".format(df[df['country'].isin(['usa', 'canada', 'united kingdom', 'australia', 'new zealand', 'ireland'])].shape[0]/df.shape[0]*100))\n",
    "\n",
    "#print percentage of ratings that are implicit (rating equals 0)\n",
    "\n",
    "print(\"Percentage of ratings that are implicit (user interacted with a book, but hasn't given a rating): {:.2f}%\".format(df[df['book_rating']==0].shape[0]/df.shape[0]*100))"
   ]
  },
  {
   "cell_type": "code",
   "execution_count": null,
   "metadata": {},
   "outputs": [],
   "source": [
    "#% of users that have rated more than 30 books\n",
    "\n",
    "print(\"Percentage of users that have rated more than 30 books: {:.2f}%\".format(df['user_id'].value_counts()[df['user_id'].value_counts()>30].shape[0]/df['user_id'].value_counts().shape[0]*100))\n",
    "\n",
    "# % of books that have more than 50 ratings\n",
    "\n",
    "print(\"Percentage of books that have more than 50 ratings: {:.2f}%\".format(df['common_identifier'].value_counts()[df['common_identifier'].value_counts()>50].shape[0]/df['common_identifier'].value_counts().shape[0]*100))"
   ]
  },
  {
   "cell_type": "code",
   "execution_count": null,
   "metadata": {},
   "outputs": [],
   "source": [
    "#Explore number of books rated per user\n",
    "print(\"95% of users have rated {} or less books\".format(df['user_id'].value_counts().quantile(0.95)))\n",
    "print(\"90% of users have rated {} or less books\".format(df['user_id'].value_counts().quantile(0.9)))\n",
    "print(\"75% of users have rated {} or less books\".format(df['user_id'].value_counts().quantile(0.75)))\n",
    "print(\"50% of users have rated {} or less books\".format(df['user_id'].value_counts().quantile(0.5)))\n",
    "\n",
    "#print quantiles of number of book ratings per user\n",
    "print(\"Quantiles of number of book ratings per user:\")\n",
    "print(df['user_id'].value_counts().quantile([0.25, 0.5, 0.75, 0.9, 0.95, 0.99]))"
   ]
  },
  {
   "cell_type": "code",
   "execution_count": null,
   "metadata": {},
   "outputs": [],
   "source": [
    "#Explore number of ratings per book\n",
    "\n",
    "print(\"95% of books have {} or less ratings\".format(df['common_identifier'].value_counts().quantile(0.95)))\n",
    "print(\"90% of books have {} or less ratings\".format(df['common_identifier'].value_counts().quantile(0.9)))\n",
    "print(\"75% of books have {} or less ratings\".format(df['common_identifier'].value_counts().quantile(0.75)))\n",
    "print(\"50% of books have {} or less ratings\".format(df['common_identifier'].value_counts().quantile(0.5)))\n",
    "\n",
    "#print quantiles of number of book ratings per book\n",
    "print(\"Quantiles of number of book ratings per book:\")\n",
    "print(df['common_identifier'].value_counts().quantile([0.25, 0.5, 0.75, 0.9, 0.95, 0.99]))"
   ]
  },
  {
   "cell_type": "code",
   "execution_count": null,
   "metadata": {},
   "outputs": [],
   "source": [
    "fig,axes = plt.subplots(2, 2, figsize=(15, 15))\n",
    "\n",
    "#Visualise titles with most ratings\n",
    "sns.countplot(ax=axes[0, 0], y='book_title', data=df, palette='hls', order=df['book_title'].value_counts().iloc[:15].index)\n",
    "axes[0, 0].set_title('TOP 15 books with most ratings')\n",
    "axes[0, 0].set_xlabel('Count')\n",
    "\n",
    "#Visualise authors with most ratings\n",
    "sns.countplot(ax=axes[0, 1], y='book_author', data=df, palette='hls', order=df['book_author'].value_counts().iloc[:15].index)\n",
    "axes[0, 1].set_title('TOP 15 authors with most ratings')\n",
    "axes[0, 1].set_xlabel('Count')\n",
    "\n",
    "#Visualise titles with most explicit ratings\n",
    "sns.countplot(ax=axes[1, 0], y='book_title', data=df[df['book_rating']!=0], palette='hls', order=df[df['book_rating']!=0]['book_title'].value_counts().iloc[:15].index)\n",
    "axes[1, 0].set_title('TOP 15 books with most explicit ratings')\n",
    "axes[1, 0].set_xlabel('Count')\n",
    "\n",
    "#Visualise authors with most explicit ratings, truncate titles above 30 characters\n",
    "sns.countplot(ax=axes[1, 1], y='book_author', data=df[df['book_rating']!=0], palette='hls', order=df[df['book_rating']!=0]['book_author'].value_counts().iloc[:15].index)\n",
    "axes[1, 1].set_title('TOP 15 authors with most explicit ratings')\n",
    "axes[1, 1].set_xlabel('Count')\n",
    "\n",
    "plt.subplots_adjust(hspace=0.5)"
   ]
  },
  {
   "cell_type": "markdown",
   "metadata": {},
   "source": [
    "## Pipline Architecture"
   ]
  },
  {
   "cell_type": "markdown",
   "metadata": {},
   "source": [
    "## Sample Size"
   ]
  },
  {
   "cell_type": "markdown",
   "metadata": {},
   "source": [
    "## Modelling"
   ]
  },
  {
   "cell_type": "markdown",
   "metadata": {},
   "source": [
    "## Evaluation"
   ]
  },
  {
   "cell_type": "markdown",
   "metadata": {},
   "source": [
    "## Error Analysis"
   ]
  }
 ],
 "metadata": {
  "kernelspec": {
   "display_name": ".venv",
   "language": "python",
   "name": "python3"
  },
  "language_info": {
   "codemirror_mode": {
    "name": "ipython",
    "version": 3
   },
   "file_extension": ".py",
   "mimetype": "text/x-python",
   "name": "python",
   "nbconvert_exporter": "python",
   "pygments_lexer": "ipython3",
   "version": "3.11.3"
  }
 },
 "nbformat": 4,
 "nbformat_minor": 2
}
