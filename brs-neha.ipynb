{
 "cells": [
  {
   "cell_type": "markdown",
   "metadata": {},
   "source": [
    "# Book-Oracle"
   ]
  },
  {
   "cell_type": "markdown",
   "metadata": {},
   "source": [
    "Book-Oracle is a book recommendation apps which suggest books based on preferences."
   ]
  },
  {
   "cell_type": "markdown",
   "metadata": {},
   "source": [
    "## Import Libraries"
   ]
  },
  {
   "cell_type": "code",
   "execution_count": null,
   "metadata": {},
   "outputs": [],
   "source": [
    "import pandas as pd\n",
    "import numpy as np\n",
    "\n",
    "#modelling\n",
    "from sklearn.preprocessing import StandardScaler\n",
    "from sklearn.preprocessing import MinMaxScaler\n",
    "from sklearn.model_selection import train_test_split\n",
    "from sklearn.metrics import accuracy_score\n",
    "from sklearn.datasets import make_classification\n",
    "from sklearn.linear_model import LogisticRegression, SGDClassifier\n",
    "from sklearn.metrics import fbeta_score, make_scorer\n",
    "from sklearn.metrics import confusion_matrix\n",
    "from sklearn import metrics\n",
    "from sklearn.metrics import classification_report\n",
    "from sklearn.model_selection import GridSearchCV, RandomizedSearchCV\n",
    "from sklearn.model_selection import RepeatedStratifiedKFold\n",
    "from scipy.stats import loguniform\n",
    "from sklearn.model_selection import train_test_split\n",
    "from sklearn.feature_extraction.text import CountVectorizer, TfidfVectorizer\n",
    "from sklearn.linear_model import LogisticRegression\n",
    "from sklearn.metrics import roc_auc_score\n",
    "from transformers import pipeline\n",
    "from tqdm import tqdm\n",
    "import nltk\n",
    "\n",
    "\n",
    "#plotting\n",
    "import matplotlib.pyplot as plt\n",
    "import seaborn as sns\n",
    "from matplotlib.ticker import PercentFormatter\n",
    "plt.rcParams.update({ \"figure.figsize\" : (8, 5),\"axes.facecolor\" : \"white\", \"axes.edgecolor\":  \"black\"})\n",
    "plt.rcParams[\"figure.facecolor\"]= \"w\"\n",
    "pd.plotting.register_matplotlib_converters()\n",
    "pd.set_option('display.float_format', lambda x: '%.3f' % x)\n",
    "pd.options.display.float_format = \"{:,.2f}\".format\n",
    "\n",
    "import warnings\n",
    "warnings.filterwarnings('ignore')\n",
    "\n",
    "RSEED = 42"
   ]
  },
  {
   "cell_type": "markdown",
   "metadata": {},
   "source": [
    "## Import Data"
   ]
  },
  {
   "cell_type": "code",
   "execution_count": null,
   "metadata": {},
   "outputs": [],
   "source": [
    "# Import data for ratings csv file\n",
    "df_ratings = pd.read_csv(\"data/Ratings.csv\")"
   ]
  },
  {
   "cell_type": "code",
   "execution_count": null,
   "metadata": {},
   "outputs": [],
   "source": [
    "#Checking no of rows and columns in dataframe\n",
    "df_ratings.shape"
   ]
  },
  {
   "cell_type": "code",
   "execution_count": null,
   "metadata": {},
   "outputs": [],
   "source": [
    "#Descriptive Stats \n",
    "df_ratings.describe()"
   ]
  },
  {
   "cell_type": "code",
   "execution_count": null,
   "metadata": {},
   "outputs": [],
   "source": [
    "#Checking datatypes of columns in ratings dataframe\n",
    "df_ratings.info()"
   ]
  },
  {
   "cell_type": "markdown",
   "metadata": {},
   "source": [
    "(ISBN) is a 13-digit number that uniquely identifies books and book-like products published internationally."
   ]
  },
  {
   "cell_type": "code",
   "execution_count": null,
   "metadata": {},
   "outputs": [],
   "source": [
    "#Checking the string length of ISBN cell values\n",
    "ISBNCount = df_ratings['ISBN'].str.len()\n",
    "print(ISBNCount)"
   ]
  },
  {
   "cell_type": "code",
   "execution_count": null,
   "metadata": {},
   "outputs": [],
   "source": [
    "# There are 7 unique ISBN values\n",
    "ISBNCount.unique()"
   ]
  },
  {
   "cell_type": "code",
   "execution_count": null,
   "metadata": {},
   "outputs": [],
   "source": [
    "#Total rows with All ISBN's = 1149780\n",
    "#Count of ISBN's with str(len) as 13 = 1740\n",
    "#Count of ISBN's with str(len) as 10 = 1139363\n",
    "#Count of ISBN's with str(len) as 9 = 5140\n",
    "df_13 = df_ratings[df_ratings['ISBN'].str.len()==9]"
   ]
  },
  {
   "cell_type": "code",
   "execution_count": null,
   "metadata": {},
   "outputs": [],
   "source": [
    "df_ratings.duplicated().sum()"
   ]
  },
  {
   "cell_type": "code",
   "execution_count": null,
   "metadata": {},
   "outputs": [],
   "source": [
    "print(df_ratings['User-ID'].nunique()) #105283\n",
    "print(df_ratings['ISBN'].nunique()) #340556"
   ]
  },
  {
   "cell_type": "code",
   "execution_count": null,
   "metadata": {},
   "outputs": [],
   "source": [
    "# Get count duplicates multiple columns using dataframe.pivot_table() \n",
    "\n",
    "#Here one User-ID has given ratings for MORE than ONE ISBN(book)\n",
    "\n",
    "df2 = df_ratings.pivot_table(index = ['User-ID', 'ISBN'], aggfunc ='size')\n",
    "print(df2)"
   ]
  },
  {
   "cell_type": "markdown",
   "metadata": {},
   "source": [
    "NOTE : One User can rate multiple books (ISBN) likewise a Book(ISBN) can have ratings from multiple Users\n",
    "\n",
    "Its M-M relationship\n",
    "\n",
    "\n",
    "So there are NO duplicate entries in Ratings table"
   ]
  },
  {
   "cell_type": "code",
   "execution_count": null,
   "metadata": {},
   "outputs": [],
   "source": [
    "#Get Count Duplicates for Each Unique Row\n",
    "\n",
    "df2 = df_ratings.groupby(df_ratings.columns.tolist(), as_index=False).size()\n",
    "\n",
    "#There are NO duplicates for unique combination of User-ID and ISBN\n",
    "print(df2[df2['size'] > 1])\n"
   ]
  },
  {
   "cell_type": "code",
   "execution_count": null,
   "metadata": {},
   "outputs": [],
   "source": [
    "#check if one ISBN has multiple UserID's\n",
    "\n",
    "isbn_counts = df_ratings.groupby('ISBN').size()\n",
    "\n",
    "# Filter ISBNs with multiple UserIDs\n",
    "multiple_userids_isbn = isbn_counts[isbn_counts > 1]\n",
    "\n",
    "# Display ISBNs with multiple UserIDs\n",
    "print(multiple_userids_isbn)\n",
    "\n"
   ]
  },
  {
   "cell_type": "code",
   "execution_count": null,
   "metadata": {},
   "outputs": [],
   "source": [
    "#Rename column names\n",
    "\n",
    "column_name_mapping = {\n",
    "    'User-ID': 'user_id',\n",
    "    'Book-Rating': 'book_rating',\n",
    "    # Add more mappings as needed\n",
    "}\n",
    "\n",
    "# Use the rename method to rename the columns\n",
    "df_ratings.rename(columns=column_name_mapping, inplace=True)"
   ]
  },
  {
   "cell_type": "markdown",
   "metadata": {},
   "source": [
    "Python function for data cleaning of Ratings csv file\n",
    "\n",
    "- Renaming Columns\n",
    "- Checking for duplicates if any\n",
    "- Checking missing / null values"
   ]
  },
  {
   "cell_type": "code",
   "execution_count": null,
   "metadata": {},
   "outputs": [],
   "source": [
    "#Perform data cleaning operations on a DataFrame using pandas built-in functions.\n",
    "\n",
    "def dataclean_rating(df_ratings):\n",
    "    \n",
    "    # Rename columns\n",
    "    column_name_mapping = {\n",
    "    'User-ID': 'user_id',\n",
    "    'Book-Rating': 'book_rating',\n",
    "    # Add more mappings as needed\n",
    "}\n",
    "# Use the rename method to rename the columns\n",
    "    df_ratings.rename(columns=column_name_mapping, inplace=True)\n",
    "    print(df_ratings.columns)\n",
    "\n",
    "    # Check for and display duplicate rows\n",
    "    duplicate_rows = df_ratings[df_ratings.duplicated(keep=False)]\n",
    "    print(\"Duplicate Rows:\")\n",
    "    print(duplicate_rows)\n",
    "\n",
    "    # Check for and display rows with missing values\n",
    "    missing_values = df_ratings[df_ratings.isna().any(axis=1)]\n",
    "    print(\"\\nRows with Missing Values:\")\n",
    "    print(missing_values)\n",
    "\n",
    "    return df_ratings"
   ]
  },
  {
   "cell_type": "code",
   "execution_count": null,
   "metadata": {},
   "outputs": [],
   "source": [
    "dataclean_rating(df_ratings)"
   ]
  },
  {
   "cell_type": "markdown",
   "metadata": {},
   "source": [
    "## Data Cleaning for Each Table"
   ]
  },
  {
   "cell_type": "markdown",
   "metadata": {},
   "source": [
    "## Exploratory Data Analysis for Each Table"
   ]
  },
  {
   "cell_type": "markdown",
   "metadata": {},
   "source": [
    "### Statistical Summary"
   ]
  },
  {
   "cell_type": "code",
   "execution_count": null,
   "metadata": {},
   "outputs": [],
   "source": [
    "df_ratings.describe(include='all')"
   ]
  },
  {
   "cell_type": "markdown",
   "metadata": {},
   "source": [
    "- Data Visulation based on book ratings ( 0 rating included)"
   ]
  },
  {
   "cell_type": "code",
   "execution_count": null,
   "metadata": {},
   "outputs": [],
   "source": [
    "plt.figure(figsize=(6,4))\n",
    "sns.countplot(x=\"book_rating\", data=df_ratings)"
   ]
  },
  {
   "cell_type": "code",
   "execution_count": null,
   "metadata": {},
   "outputs": [],
   "source": [
    "## Explicit Ratings (Excluded rating 0 for better visualization)\n",
    "plt.figure(figsize=(8,6))\n",
    "data = df_ratings[df_ratings['book_rating'] != 0]\n",
    "sns.countplot(x=\"book_rating\", data=data)\n",
    "plt.title(\"Explicit Ratings\")"
   ]
  },
  {
   "cell_type": "code",
   "execution_count": null,
   "metadata": {},
   "outputs": [],
   "source": [
    "#Description of book rating\n",
    "df_ratings['book_rating'].describe()"
   ]
  },
  {
   "cell_type": "markdown",
   "metadata": {},
   "source": [
    "### Observation - Book-Ratings are  distributed with median rating of 3"
   ]
  },
  {
   "cell_type": "code",
   "execution_count": null,
   "metadata": {},
   "outputs": [],
   "source": [
    "plt.figure(figsize=(13,17))\n",
    "sns.pairplot(data=df_ratings.drop(['ISBN'],axis=1))\n",
    "plt.show()"
   ]
  },
  {
   "cell_type": "code",
   "execution_count": null,
   "metadata": {},
   "outputs": [],
   "source": [
    "#Selecting Books with Optimum Number of Ratings (>5)\n",
    "\n",
    "# counting the ratings >=5 by grouping ISBN and sort by ratings in desc order\n",
    "isbn_rating_desc = df_ratings[df_ratings['book_rating'] >= 5].groupby(['ISBN'])['book_rating'].count().reset_index().sort_values('book_rating', ascending=False)\n",
    "print(isbn_rating_desc)"
   ]
  },
  {
   "cell_type": "code",
   "execution_count": null,
   "metadata": {},
   "outputs": [],
   "source": [
    "# Convert 'ISBN' to category type for better visualization\n",
    "df_ratings['ISBN'] = df_ratings['ISBN'].astype('category')\n",
    "\n",
    "# Create a pair plot\n",
    "sns.pairplot(df_ratings, hue='ISBN', markers='o', palette='viridis')\n",
    "\n",
    "plt.show()"
   ]
  },
  {
   "cell_type": "markdown",
   "metadata": {},
   "source": [
    "## Merge Tables"
   ]
  },
  {
   "cell_type": "markdown",
   "metadata": {},
   "source": [
    "## Data Cleaning"
   ]
  },
  {
   "cell_type": "markdown",
   "metadata": {},
   "source": [
    "## Exploratory Data Analysis"
   ]
  },
  {
   "cell_type": "markdown",
   "metadata": {},
   "source": [
    "## Pipline Architecture"
   ]
  },
  {
   "cell_type": "markdown",
   "metadata": {},
   "source": [
    "## Sample Size"
   ]
  },
  {
   "cell_type": "markdown",
   "metadata": {},
   "source": [
    "## Modelling"
   ]
  },
  {
   "cell_type": "markdown",
   "metadata": {},
   "source": [
    "## Evaluation"
   ]
  },
  {
   "cell_type": "markdown",
   "metadata": {},
   "source": [
    "## Error Analysis"
   ]
  }
 ],
 "metadata": {
  "kernelspec": {
   "display_name": ".venv",
   "language": "python",
   "name": "python3"
  },
  "language_info": {
   "codemirror_mode": {
    "name": "ipython",
    "version": 3
   },
   "file_extension": ".py",
   "mimetype": "text/x-python",
   "name": "python",
   "nbconvert_exporter": "python",
   "pygments_lexer": "ipython3",
   "version": "3.11.3"
  }
 },
 "nbformat": 4,
 "nbformat_minor": 2
}
