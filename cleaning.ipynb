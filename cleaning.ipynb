{
 "cells": [
  {
   "cell_type": "markdown",
   "metadata": {},
   "source": [
    "# Book-Oracle: Data Cleaning"
   ]
  },
  {
   "cell_type": "markdown",
   "metadata": {},
   "source": [
    "- Clean threee datasets using functions in utils/data_cleaning & Save the merged dataset\n",
    "- 26.11.2023\n",
    "- Janina, Oliwia, Neha, Nina"
   ]
  },
  {
   "cell_type": "markdown",
   "metadata": {},
   "source": [
    "## Import Libraries"
   ]
  },
  {
   "cell_type": "code",
   "execution_count": null,
   "metadata": {},
   "outputs": [],
   "source": [
    "import pandas as pd\n",
    "import numpy as np\n",
    "\n",
    "\n",
    "#Plotting\n",
    "import matplotlib.pyplot as plt\n",
    "import seaborn as sns\n",
    "from matplotlib.ticker import PercentFormatter\n",
    "plt.rcParams.update({ \"figure.figsize\" : (8, 5),\"axes.facecolor\" : \"white\", \"axes.edgecolor\":  \"black\"})\n",
    "plt.rcParams[\"figure.facecolor\"]= \"w\"\n",
    "pd.plotting.register_matplotlib_converters()\n",
    "pd.set_option('display.float_format', lambda x: '%.3f' % x)\n",
    "pd.options.display.float_format = \"{:,.2f}\".format\n",
    "\n",
    "#Custom functions\n",
    "from utils.data_cleaning import clean_ratings, clean_users, clean_books\n",
    "\n",
    "RSEED = 42\n",
    "\n",
    "import warnings\n",
    "warnings.filterwarnings('ignore')"
   ]
  },
  {
   "cell_type": "markdown",
   "metadata": {},
   "source": [
    "## Import Data"
   ]
  },
  {
   "cell_type": "code",
   "execution_count": null,
   "metadata": {},
   "outputs": [],
   "source": [
    "ratings_df = pd.read_csv('data/ratings.csv')\n",
    "books_df = pd.read_csv('data/books.csv')\n",
    "users_df = pd.read_csv('data/users.csv')\n",
    "\n",
    "print(\"Ratings table has {} rows and {} columns\".format(ratings_df.shape[0], ratings_df.shape[1]))\n",
    "print(\"Books table has {} rows and {} columns\".format(books_df.shape[0], books_df.shape[1]))\n",
    "print(\"Users table has {} rows and {} columns\".format(users_df.shape[0], users_df.shape[1]))"
   ]
  },
  {
   "cell_type": "markdown",
   "metadata": {},
   "source": [
    "## Data cleaning"
   ]
  },
  {
   "cell_type": "markdown",
   "metadata": {},
   "source": [
    "#### Clean Books Dataset"
   ]
  },
  {
   "cell_type": "code",
   "execution_count": null,
   "metadata": {},
   "outputs": [],
   "source": [
    "books_df, common_identifier_dict = clean_books(books_df)\n",
    "\n",
    "print(\"Books table has {} rows and {} columns\".format(books_df.shape[0], books_df.shape[1]))"
   ]
  },
  {
   "cell_type": "code",
   "execution_count": null,
   "metadata": {},
   "outputs": [],
   "source": [
    "#Show rows with round brackets in title column from books_df\n",
    "pd.set_option('display.max_rows', None)\n",
    "books_df['book_author'] = books_df['book_author'].str.replace('&amp;', '&')\n",
    "\n",
    "#Show rows with round brackets in title column from books_df\n",
    "\n",
    "books\n",
    "\n"
   ]
  },
  {
   "cell_type": "code",
   "execution_count": null,
   "metadata": {},
   "outputs": [],
   "source": [
    "#Remove everything between brackets in book_title\n",
    "books_df['book_title'] = books_df['book_title'].str.replace(r\"\\(.*\\)\",\"\")\n",
    "\n",
    "#Remove whitespaces and double spaces in book title\n",
    "books_df['book_title'] = books_df['book_title'].str.strip()\n",
    "\n",
    "#Replace &Amp; with & in book_author column\n",
    "\n",
    "\n",
    "#Display all rows"
   ]
  },
  {
   "cell_type": "code",
   "execution_count": null,
   "metadata": {},
   "outputs": [],
   "source": []
  },
  {
   "cell_type": "code",
   "execution_count": null,
   "metadata": {},
   "outputs": [],
   "source": [
    "books_df.head(3)"
   ]
  },
  {
   "cell_type": "markdown",
   "metadata": {},
   "source": [
    "#### Clean Ratings Dataset\n",
    "\n",
    "CHANGE LAST PRINT!!"
   ]
  },
  {
   "cell_type": "code",
   "execution_count": null,
   "metadata": {},
   "outputs": [],
   "source": [
    "ratings_df = clean_ratings(ratings_df)\n",
    "\n",
    "#assign common identifier and convert to int\n",
    "ratings_df['common_identifier'] = ratings_df['isbn'].map(common_identifier_dict)\n",
    "\n",
    "print(\"Ratings table has {} rows and {} columns\".format(ratings_df.shape[0], ratings_df.shape[1]))\n",
    "\n",
    "#check how many rows in ratings_df do not have a common identifier in books_df\n",
    "print(\"\")\n",
    "print(\"There are {} rows in ratings_df that do not have a common identifier in books_df\".format(ratings_df[~ratings_df['common_identifier'].isin(books_df['common_identifier'])].shape[0]))\n",
    "\n",
    "ratings_df.sort_values(by=\"common_identifier\", ascending=True).head(3)"
   ]
  },
  {
   "cell_type": "markdown",
   "metadata": {},
   "source": [
    "#### Clean Users Dataset"
   ]
  },
  {
   "cell_type": "code",
   "execution_count": null,
   "metadata": {},
   "outputs": [],
   "source": [
    "users_df = clean_users(users_df)\n",
    "\n",
    "print(\"Users table has {} rows and {} columns\".format(users_df.shape[0], users_df.shape[1]))\n",
    "users_df.head(3)"
   ]
  },
  {
   "cell_type": "markdown",
   "metadata": {},
   "source": [
    "## Merge tables\n",
    "\n",
    "For Content-based filtering (NLP) we will need to do a left merge to get ALL books regardless whether they have a rating. - then do LEFT merge.\n",
    "\n",
    "Users - consider also RIGHT merge on users, to capture all users regarrdless whether there is metadata"
   ]
  },
  {
   "cell_type": "code",
   "execution_count": null,
   "metadata": {},
   "outputs": [],
   "source": [
    "#Merge all tables\n",
    "df = books_df.merge(ratings_df, on='common_identifier', how='inner')\n",
    "df = df.merge(users_df, on='user_id', how='inner')\n",
    "\n",
    "#check for missing values\n",
    "print(\"There are {} missing values in df\".format(df.isnull().sum().sum()))\n",
    "\n",
    "#check for duplicates\n",
    "print(\"There are {} duplicates in df\".format(df.duplicated().sum()))\n",
    "\n",
    "df.head(3)"
   ]
  },
  {
   "cell_type": "code",
   "execution_count": null,
   "metadata": {},
   "outputs": [],
   "source": [
    "df.info()"
   ]
  },
  {
   "cell_type": "markdown",
   "metadata": {},
   "source": [
    "## Save cleaned data"
   ]
  },
  {
   "cell_type": "code",
   "execution_count": null,
   "metadata": {},
   "outputs": [],
   "source": [
    "df.to_csv('data/kaggle_full_df.csv', index=False)"
   ]
  },
  {
   "cell_type": "code",
   "execution_count": null,
   "metadata": {},
   "outputs": [],
   "source": []
  }
 ],
 "metadata": {
  "kernelspec": {
   "display_name": ".venv",
   "language": "python",
   "name": "python3"
  },
  "language_info": {
   "codemirror_mode": {
    "name": "ipython",
    "version": 3
   },
   "file_extension": ".py",
   "mimetype": "text/x-python",
   "name": "python",
   "nbconvert_exporter": "python",
   "pygments_lexer": "ipython3",
   "version": "3.11.3"
  }
 },
 "nbformat": 4,
 "nbformat_minor": 2
}
