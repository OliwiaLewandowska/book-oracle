{
 "cells": [
  {
   "cell_type": "markdown",
   "metadata": {},
   "source": [
    "# Book-Oracle: Data Cleaning"
   ]
  },
  {
   "cell_type": "markdown",
   "metadata": {},
   "source": [
    "- Clean threee datasets using functions in utils/data_cleaning & Save the merged dataset\n",
    "- 26.11.2023\n",
    "- Janina, Oliwia, Neha, Nina"
   ]
  },
  {
   "cell_type": "markdown",
   "metadata": {},
   "source": [
    "## Import Libraries"
   ]
  },
  {
   "cell_type": "code",
   "execution_count": 1,
   "metadata": {},
   "outputs": [],
   "source": [
    "import pandas as pd\n",
    "import numpy as np\n",
    "\n",
    "pd.options.display.float_format = \"{:,.2f}\".format\n",
    "\n",
    "#Custom functions\n",
    "from utils.data_cleaning import clean_ratings, clean_users, clean_books\n",
    "\n",
    "RSEED = 42\n",
    "\n",
    "import warnings\n",
    "warnings.filterwarnings('ignore')"
   ]
  },
  {
   "cell_type": "markdown",
   "metadata": {},
   "source": [
    "## Import Data"
   ]
  },
  {
   "cell_type": "code",
   "execution_count": 2,
   "metadata": {},
   "outputs": [
    {
     "name": "stdout",
     "output_type": "stream",
     "text": [
      "Ratings table has 1149780 rows and 3 columns\n",
      "Books table has 271360 rows and 8 columns\n",
      "Users table has 278858 rows and 3 columns\n"
     ]
    }
   ],
   "source": [
    "ratings_df = pd.read_csv('data/ratings.csv')\n",
    "books_df = pd.read_csv('data/books.csv')\n",
    "users_df = pd.read_csv('data/users.csv')\n",
    "\n",
    "print(\"Ratings table has {} rows and {} columns\".format(ratings_df.shape[0], ratings_df.shape[1]))\n",
    "print(\"Books table has {} rows and {} columns\".format(books_df.shape[0], books_df.shape[1]))\n",
    "print(\"Users table has {} rows and {} columns\".format(users_df.shape[0], users_df.shape[1]))"
   ]
  },
  {
   "cell_type": "markdown",
   "metadata": {},
   "source": [
    "## Data cleaning"
   ]
  },
  {
   "cell_type": "markdown",
   "metadata": {},
   "source": [
    "#### Clean Books Dataset"
   ]
  },
  {
   "cell_type": "code",
   "execution_count": 3,
   "metadata": {},
   "outputs": [
    {
     "name": "stdout",
     "output_type": "stream",
     "text": [
      "Columns and their data types:\n",
      "book_title             object\n",
      "book_author            object\n",
      "year_of_publication    object\n",
      "publisher              object\n",
      "image_url_m            object\n",
      "common_identifier       int64\n",
      "dtype: object\n",
      "Books table has 239094 rows and 6 columns\n"
     ]
    }
   ],
   "source": [
    "books_df, common_identifier_dict = clean_books(books_df)\n",
    "\n",
    "print(\"Books table has {} rows and {} columns\".format(books_df.shape[0], books_df.shape[1]))"
   ]
  },
  {
   "cell_type": "markdown",
   "metadata": {},
   "source": [
    "#### Clean Ratings Dataset\n",
    "\n",
    "CHANGE LAST PRINT!!"
   ]
  },
  {
   "cell_type": "code",
   "execution_count": 4,
   "metadata": {},
   "outputs": [
    {
     "name": "stdout",
     "output_type": "stream",
     "text": [
      "Columns and their data types:\n",
      "user_id         int64\n",
      "isbn           object\n",
      "book_rating     int64\n",
      "dtype: object\n",
      "\n",
      "Number of duplicated rows:0\n",
      "\n",
      "Number of rows with missing values:0\n",
      "Ratings table has 1149780 rows and 4 columns\n",
      "\n",
      "There are 118646 rows in ratings_df that do not have a common identifier in books_df\n"
     ]
    },
    {
     "data": {
      "text/html": [
       "<div>\n",
       "<style scoped>\n",
       "    .dataframe tbody tr th:only-of-type {\n",
       "        vertical-align: middle;\n",
       "    }\n",
       "\n",
       "    .dataframe tbody tr th {\n",
       "        vertical-align: top;\n",
       "    }\n",
       "\n",
       "    .dataframe thead th {\n",
       "        text-align: right;\n",
       "    }\n",
       "</style>\n",
       "<table border=\"1\" class=\"dataframe\">\n",
       "  <thead>\n",
       "    <tr style=\"text-align: right;\">\n",
       "      <th></th>\n",
       "      <th>user_id</th>\n",
       "      <th>isbn</th>\n",
       "      <th>book_rating</th>\n",
       "      <th>common_identifier</th>\n",
       "    </tr>\n",
       "  </thead>\n",
       "  <tbody>\n",
       "    <tr>\n",
       "      <th>9561</th>\n",
       "      <td>2</td>\n",
       "      <td>0195153448</td>\n",
       "      <td>0</td>\n",
       "      <td>1.00</td>\n",
       "    </tr>\n",
       "    <tr>\n",
       "      <th>1125456</th>\n",
       "      <td>269782</td>\n",
       "      <td>0801319536</td>\n",
       "      <td>7</td>\n",
       "      <td>1.00</td>\n",
       "    </tr>\n",
       "    <tr>\n",
       "      <th>188244</th>\n",
       "      <td>41385</td>\n",
       "      <td>0002005018</td>\n",
       "      <td>0</td>\n",
       "      <td>2.00</td>\n",
       "    </tr>\n",
       "  </tbody>\n",
       "</table>\n",
       "</div>"
      ],
      "text/plain": [
       "         user_id        isbn  book_rating  common_identifier\n",
       "9561           2  0195153448            0               1.00\n",
       "1125456   269782  0801319536            7               1.00\n",
       "188244     41385  0002005018            0               2.00"
      ]
     },
     "execution_count": 4,
     "metadata": {},
     "output_type": "execute_result"
    }
   ],
   "source": [
    "ratings_df = clean_ratings(ratings_df)\n",
    "\n",
    "#assign common identifier and convert to int\n",
    "ratings_df['common_identifier'] = ratings_df['isbn'].map(common_identifier_dict)\n",
    "\n",
    "print(\"Ratings table has {} rows and {} columns\".format(ratings_df.shape[0], ratings_df.shape[1]))\n",
    "\n",
    "#check how many rows in ratings_df do not have a common identifier in books_df\n",
    "print(\"\")\n",
    "print(\"There are {} rows in ratings_df that do not have a common identifier in books_df\".format(ratings_df[~ratings_df['common_identifier'].isin(books_df['common_identifier'])].shape[0]))\n",
    "\n",
    "ratings_df.sort_values(by=\"common_identifier\", ascending=True).head(3)"
   ]
  },
  {
   "cell_type": "markdown",
   "metadata": {},
   "source": [
    "#### Clean Users Dataset"
   ]
  },
  {
   "cell_type": "code",
   "execution_count": 5,
   "metadata": {},
   "outputs": [
    {
     "name": "stdout",
     "output_type": "stream",
     "text": [
      "Columns and their data types:\n",
      "user_id     int64\n",
      "age         int64\n",
      "city       object\n",
      "country    object\n",
      "dtype: object\n",
      "Users table has 275565 rows and 4 columns\n"
     ]
    },
    {
     "data": {
      "text/html": [
       "<div>\n",
       "<style scoped>\n",
       "    .dataframe tbody tr th:only-of-type {\n",
       "        vertical-align: middle;\n",
       "    }\n",
       "\n",
       "    .dataframe tbody tr th {\n",
       "        vertical-align: top;\n",
       "    }\n",
       "\n",
       "    .dataframe thead th {\n",
       "        text-align: right;\n",
       "    }\n",
       "</style>\n",
       "<table border=\"1\" class=\"dataframe\">\n",
       "  <thead>\n",
       "    <tr style=\"text-align: right;\">\n",
       "      <th></th>\n",
       "      <th>user_id</th>\n",
       "      <th>age</th>\n",
       "      <th>city</th>\n",
       "      <th>country</th>\n",
       "    </tr>\n",
       "  </thead>\n",
       "  <tbody>\n",
       "    <tr>\n",
       "      <th>0</th>\n",
       "      <td>1</td>\n",
       "      <td>0</td>\n",
       "      <td>new york</td>\n",
       "      <td>usa</td>\n",
       "    </tr>\n",
       "    <tr>\n",
       "      <th>1</th>\n",
       "      <td>2</td>\n",
       "      <td>18</td>\n",
       "      <td>stockton</td>\n",
       "      <td>usa</td>\n",
       "    </tr>\n",
       "    <tr>\n",
       "      <th>2</th>\n",
       "      <td>3</td>\n",
       "      <td>0</td>\n",
       "      <td>moscow</td>\n",
       "      <td>russia</td>\n",
       "    </tr>\n",
       "  </tbody>\n",
       "</table>\n",
       "</div>"
      ],
      "text/plain": [
       "   user_id  age      city country\n",
       "0        1    0  new york     usa\n",
       "1        2   18  stockton     usa\n",
       "2        3    0    moscow  russia"
      ]
     },
     "execution_count": 5,
     "metadata": {},
     "output_type": "execute_result"
    }
   ],
   "source": [
    "users_df = clean_users(users_df)\n",
    "\n",
    "print(\"Users table has {} rows and {} columns\".format(users_df.shape[0], users_df.shape[1]))\n",
    "users_df.head(3)"
   ]
  },
  {
   "cell_type": "markdown",
   "metadata": {},
   "source": [
    "## Merge tables\n",
    "\n",
    "For Content-based filtering (NLP) we will need to do a left merge to get ALL books regardless whether they have a rating. - then do LEFT merge.\n",
    "\n",
    "Users - consider also RIGHT merge on users, to capture all users regarrdless whether there is metadata"
   ]
  },
  {
   "cell_type": "code",
   "execution_count": 6,
   "metadata": {},
   "outputs": [
    {
     "name": "stdout",
     "output_type": "stream",
     "text": [
      "There are 0 missing values in df\n",
      "There are 0 duplicates in df\n"
     ]
    },
    {
     "data": {
      "text/html": [
       "<div>\n",
       "<style scoped>\n",
       "    .dataframe tbody tr th:only-of-type {\n",
       "        vertical-align: middle;\n",
       "    }\n",
       "\n",
       "    .dataframe tbody tr th {\n",
       "        vertical-align: top;\n",
       "    }\n",
       "\n",
       "    .dataframe thead th {\n",
       "        text-align: right;\n",
       "    }\n",
       "</style>\n",
       "<table border=\"1\" class=\"dataframe\">\n",
       "  <thead>\n",
       "    <tr style=\"text-align: right;\">\n",
       "      <th></th>\n",
       "      <th>book_title</th>\n",
       "      <th>book_author</th>\n",
       "      <th>year_of_publication</th>\n",
       "      <th>publisher</th>\n",
       "      <th>image_url_m</th>\n",
       "      <th>common_identifier</th>\n",
       "      <th>user_id</th>\n",
       "      <th>isbn</th>\n",
       "      <th>book_rating</th>\n",
       "      <th>age</th>\n",
       "      <th>city</th>\n",
       "      <th>country</th>\n",
       "    </tr>\n",
       "  </thead>\n",
       "  <tbody>\n",
       "    <tr>\n",
       "      <th>0</th>\n",
       "      <td>Classical Mythology</td>\n",
       "      <td>Mark P. O. Morford</td>\n",
       "      <td>2002</td>\n",
       "      <td>Oxford University Press</td>\n",
       "      <td>http://images.amazon.com/images/P/0195153448.0...</td>\n",
       "      <td>1</td>\n",
       "      <td>2</td>\n",
       "      <td>0195153448</td>\n",
       "      <td>0</td>\n",
       "      <td>18</td>\n",
       "      <td>stockton</td>\n",
       "      <td>usa</td>\n",
       "    </tr>\n",
       "    <tr>\n",
       "      <th>1</th>\n",
       "      <td>Classical Mythology</td>\n",
       "      <td>Mark P. O. Morford</td>\n",
       "      <td>2002</td>\n",
       "      <td>Oxford University Press</td>\n",
       "      <td>http://images.amazon.com/images/P/0195153448.0...</td>\n",
       "      <td>1</td>\n",
       "      <td>269782</td>\n",
       "      <td>0801319536</td>\n",
       "      <td>7</td>\n",
       "      <td>30</td>\n",
       "      <td>edmonton</td>\n",
       "      <td>canada</td>\n",
       "    </tr>\n",
       "    <tr>\n",
       "      <th>2</th>\n",
       "      <td>Pay It Forward: A Novel</td>\n",
       "      <td>Catherine Ryan Hyde</td>\n",
       "      <td>2000</td>\n",
       "      <td>Simon &amp;amp; Schuster</td>\n",
       "      <td>http://images.amazon.com/images/P/0684862719.0...</td>\n",
       "      <td>2392</td>\n",
       "      <td>269782</td>\n",
       "      <td>0684862719</td>\n",
       "      <td>8</td>\n",
       "      <td>30</td>\n",
       "      <td>edmonton</td>\n",
       "      <td>canada</td>\n",
       "    </tr>\n",
       "  </tbody>\n",
       "</table>\n",
       "</div>"
      ],
      "text/plain": [
       "                book_title          book_author year_of_publication  \\\n",
       "0      Classical Mythology   Mark P. O. Morford                2002   \n",
       "1      Classical Mythology   Mark P. O. Morford                2002   \n",
       "2  Pay It Forward: A Novel  Catherine Ryan Hyde                2000   \n",
       "\n",
       "                 publisher                                        image_url_m  \\\n",
       "0  Oxford University Press  http://images.amazon.com/images/P/0195153448.0...   \n",
       "1  Oxford University Press  http://images.amazon.com/images/P/0195153448.0...   \n",
       "2     Simon &amp; Schuster  http://images.amazon.com/images/P/0684862719.0...   \n",
       "\n",
       "   common_identifier  user_id        isbn  book_rating  age      city country  \n",
       "0                  1        2  0195153448            0   18  stockton     usa  \n",
       "1                  1   269782  0801319536            7   30  edmonton  canada  \n",
       "2               2392   269782  0684862719            8   30  edmonton  canada  "
      ]
     },
     "execution_count": 6,
     "metadata": {},
     "output_type": "execute_result"
    }
   ],
   "source": [
    "#Merge all tables\n",
    "df = books_df.merge(ratings_df, on='common_identifier', how='inner')\n",
    "df = df.merge(users_df, on='user_id', how='inner')\n",
    "\n",
    "#check for missing values\n",
    "print(\"There are {} missing values in df\".format(df.isnull().sum().sum()))\n",
    "\n",
    "#check for duplicates\n",
    "print(\"There are {} duplicates in df\".format(df.duplicated().sum()))\n",
    "\n",
    "df.head(3)"
   ]
  },
  {
   "cell_type": "code",
   "execution_count": 7,
   "metadata": {},
   "outputs": [
    {
     "name": "stdout",
     "output_type": "stream",
     "text": [
      "<class 'pandas.core.frame.DataFrame'>\n",
      "RangeIndex: 1005487 entries, 0 to 1005486\n",
      "Data columns (total 12 columns):\n",
      " #   Column               Non-Null Count    Dtype \n",
      "---  ------               --------------    ----- \n",
      " 0   book_title           1005487 non-null  object\n",
      " 1   book_author          1005487 non-null  object\n",
      " 2   year_of_publication  1005487 non-null  object\n",
      " 3   publisher            1005487 non-null  object\n",
      " 4   image_url_m          1005487 non-null  object\n",
      " 5   common_identifier    1005487 non-null  int64 \n",
      " 6   user_id              1005487 non-null  int64 \n",
      " 7   isbn                 1005487 non-null  object\n",
      " 8   book_rating          1005487 non-null  int64 \n",
      " 9   age                  1005487 non-null  int64 \n",
      " 10  city                 1005487 non-null  object\n",
      " 11  country              1005487 non-null  object\n",
      "dtypes: int64(4), object(8)\n",
      "memory usage: 92.1+ MB\n"
     ]
    }
   ],
   "source": [
    "df.info()"
   ]
  },
  {
   "cell_type": "markdown",
   "metadata": {},
   "source": [
    "## Add descriptions to books  "
   ]
  },
  {
   "cell_type": "code",
   "execution_count": 8,
   "metadata": {},
   "outputs": [],
   "source": [
    "#load descriptions\n",
    "descriptions_df = pd.read_csv('data/books_w_descriptions.csv')\n",
    "\n",
    "#merge descriptions to df based on common identifier    \n",
    "\n",
    "df_full = df.merge(descriptions_df, on='common_identifier', how='left')"
   ]
  },
  {
   "cell_type": "markdown",
   "metadata": {},
   "source": [
    "## Save cleaned data"
   ]
  },
  {
   "cell_type": "code",
   "execution_count": 9,
   "metadata": {},
   "outputs": [],
   "source": [
    "df_full.to_csv('data/kaggle_full_df.csv', index=False)"
   ]
  },
  {
   "cell_type": "code",
   "execution_count": 10,
   "metadata": {},
   "outputs": [
    {
     "name": "stdout",
     "output_type": "stream",
     "text": [
      "<class 'pandas.core.frame.DataFrame'>\n",
      "RangeIndex: 1005487 entries, 0 to 1005486\n",
      "Data columns (total 13 columns):\n",
      " #   Column               Non-Null Count    Dtype \n",
      "---  ------               --------------    ----- \n",
      " 0   book_title           1005487 non-null  object\n",
      " 1   book_author          1005487 non-null  object\n",
      " 2   year_of_publication  1005487 non-null  object\n",
      " 3   publisher            1005487 non-null  object\n",
      " 4   image_url_m          1005487 non-null  object\n",
      " 5   common_identifier    1005487 non-null  int64 \n",
      " 6   user_id              1005487 non-null  int64 \n",
      " 7   isbn                 1005487 non-null  object\n",
      " 8   book_rating          1005487 non-null  int64 \n",
      " 9   age                  1005487 non-null  int64 \n",
      " 10  city                 1005487 non-null  object\n",
      " 11  country              1005487 non-null  object\n",
      " 12  description          641320 non-null   object\n",
      "dtypes: int64(4), object(9)\n",
      "memory usage: 99.7+ MB\n"
     ]
    }
   ],
   "source": [
    "df_full.info()"
   ]
  },
  {
   "cell_type": "code",
   "execution_count": null,
   "metadata": {},
   "outputs": [],
   "source": []
  },
  {
   "cell_type": "code",
   "execution_count": null,
   "metadata": {},
   "outputs": [],
   "source": []
  }
 ],
 "metadata": {
  "kernelspec": {
   "display_name": ".venv",
   "language": "python",
   "name": "python3"
  },
  "language_info": {
   "codemirror_mode": {
    "name": "ipython",
    "version": 3
   },
   "file_extension": ".py",
   "mimetype": "text/x-python",
   "name": "python",
   "nbconvert_exporter": "python",
   "pygments_lexer": "ipython3",
   "version": "3.11.3"
  }
 },
 "nbformat": 4,
 "nbformat_minor": 2
}
