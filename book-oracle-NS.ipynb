{
 "cells": [
  {
   "cell_type": "markdown",
   "metadata": {},
   "source": [
    "# Book-Oracle"
   ]
  },
  {
   "cell_type": "markdown",
   "metadata": {},
   "source": [
    "Book-Oracle is a book recommendation apps which suggest books based on preferences."
   ]
  },
  {
   "cell_type": "markdown",
   "metadata": {},
   "source": [
    "## Import Libraries"
   ]
  },
  {
   "cell_type": "code",
   "execution_count": 1,
   "metadata": {},
   "outputs": [],
   "source": [
    "import pandas as pd\n",
    "import numpy as np\n",
    "\n",
    "#modelling\n",
    "from sklearn.preprocessing import StandardScaler\n",
    "from sklearn.preprocessing import MinMaxScaler\n",
    "from sklearn.model_selection import train_test_split\n",
    "from sklearn.metrics import accuracy_score\n",
    "from sklearn.datasets import make_classification\n",
    "from sklearn.linear_model import LogisticRegression, SGDClassifier\n",
    "from sklearn.metrics import fbeta_score, make_scorer\n",
    "from sklearn.metrics import confusion_matrix\n",
    "from sklearn import metrics\n",
    "from sklearn.metrics import classification_report\n",
    "from sklearn.model_selection import GridSearchCV, RandomizedSearchCV\n",
    "from sklearn.model_selection import RepeatedStratifiedKFold\n",
    "from scipy.stats import loguniform\n",
    "from sklearn.model_selection import train_test_split\n",
    "from sklearn.feature_extraction.text import CountVectorizer, TfidfVectorizer\n",
    "from sklearn.linear_model import LogisticRegression\n",
    "from sklearn.metrics import roc_auc_score\n",
    "from transformers import pipeline\n",
    "from tqdm import tqdm\n",
    "import nltk\n",
    "\n",
    "\n",
    "#plotting\n",
    "import matplotlib.pyplot as plt\n",
    "import seaborn as sns\n",
    "from matplotlib.ticker import PercentFormatter\n",
    "plt.rcParams.update({ \"figure.figsize\" : (8, 5),\"axes.facecolor\" : \"white\", \"axes.edgecolor\":  \"black\"})\n",
    "plt.rcParams[\"figure.facecolor\"]= \"w\"\n",
    "pd.plotting.register_matplotlib_converters()\n",
    "pd.set_option('display.float_format', lambda x: '%.3f' % x)\n",
    "pd.options.display.float_format = \"{:,.2f}\".format\n",
    "\n",
    "import warnings\n",
    "warnings.filterwarnings('ignore')\n",
    "\n",
    "RSEED = 42"
   ]
  },
  {
   "cell_type": "markdown",
   "metadata": {},
   "source": [
    "## Import Data"
   ]
  },
  {
   "cell_type": "code",
   "execution_count": 2,
   "metadata": {},
   "outputs": [],
   "source": [
    "# Import data for ratings csv file\n",
    "df_ratings = pd.read_csv(\"data/Ratings.csv\")"
   ]
  },
  {
   "cell_type": "code",
   "execution_count": null,
   "metadata": {},
   "outputs": [],
   "source": [
    "#Checking no of rows and columns in dataframe\n",
    "df_ratings.shape"
   ]
  },
  {
   "cell_type": "code",
   "execution_count": null,
   "metadata": {},
   "outputs": [],
   "source": [
    "#Descriptive Stats \n",
    "df_ratings.describe()"
   ]
  },
  {
   "cell_type": "code",
   "execution_count": null,
   "metadata": {},
   "outputs": [],
   "source": [
    "#Checking datatypes of columns in ratings dataframe\n",
    "df_ratings.info()"
   ]
  },
  {
   "cell_type": "markdown",
   "metadata": {},
   "source": [
    "(ISBN) is a 13-digit number that uniquely identifies books and book-like products published internationally."
   ]
  },
  {
   "cell_type": "code",
   "execution_count": 37,
   "metadata": {},
   "outputs": [
    {
     "name": "stdout",
     "output_type": "stream",
     "text": [
      "[10  9 11  8 12 13  7  4  6]\n"
     ]
    }
   ],
   "source": [
    "#Checking the string length of ISBN cell values\n",
    "ISBNCount = df_ratings['isbn'].str.len()\n",
    "print(ISBNCount.unique())\n",
    "# There are 7 unique ISBN values"
   ]
  },
  {
   "cell_type": "code",
   "execution_count": null,
   "metadata": {},
   "outputs": [],
   "source": [
    "#Total rows with All ISBN's = 1149780\n",
    "#Count of ISBN's with str(len) as 13 = 1740\n",
    "#Count of ISBN's with str(len) as 10 = 1139363\n",
    "#Count of ISBN's with str(len) as 9 = 5140\n",
    "df_13 = df_ratings[df_ratings['ISBN'].str.len()==9]"
   ]
  },
  {
   "cell_type": "code",
   "execution_count": null,
   "metadata": {},
   "outputs": [],
   "source": [
    "#This function provides the boolean value for the complete dataset to know if any null value is present or not.\n",
    "df_ratings.isna().any()"
   ]
  },
  {
   "cell_type": "code",
   "execution_count": null,
   "metadata": {},
   "outputs": [],
   "source": [
    "#This function gives the sum of the null values preset in the dataset column-wise.\n",
    "df_ratings.isna().sum()"
   ]
  },
  {
   "cell_type": "code",
   "execution_count": null,
   "metadata": {},
   "outputs": [],
   "source": [
    "df_ratings.duplicated().sum()"
   ]
  },
  {
   "cell_type": "code",
   "execution_count": null,
   "metadata": {},
   "outputs": [],
   "source": [
    "#Print duplicate rows if any\n",
    "duplicate_rows = df_ratings[df_ratings.duplicated(keep=False)]\n",
    "print(duplicate_rows)"
   ]
  },
  {
   "cell_type": "code",
   "execution_count": null,
   "metadata": {},
   "outputs": [],
   "source": [
    "print(df_ratings['User-ID'].nunique()) #105283\n",
    "print(df_ratings['ISBN'].nunique()) #340556"
   ]
  },
  {
   "cell_type": "code",
   "execution_count": null,
   "metadata": {},
   "outputs": [],
   "source": [
    "# Get count duplicates multiple columns using dataframe.pivot_table() \n",
    "#Here one User-ID has given ratings for MORE than ONE ISBN(book)\n",
    "\n",
    "df2 = df_ratings.pivot_table(index = ['User-ID', 'ISBN'], aggfunc ='size')\n",
    "print(df2)"
   ]
  },
  {
   "cell_type": "markdown",
   "metadata": {},
   "source": [
    "NOTE : One User can rate multiple books (ISBN) likewise a Book(ISBN) can have ratings from multiple Users\n",
    "\n",
    "Its M-M relationship\n",
    "\n",
    "\n",
    "So there are NO duplicate entries in Ratings table"
   ]
  },
  {
   "cell_type": "code",
   "execution_count": null,
   "metadata": {},
   "outputs": [],
   "source": [
    "#Get Count Duplicates for Each Unique Row\n",
    "df2 = df_ratings.groupby(df_ratings.columns.tolist(), as_index=False).size()\n",
    "\n",
    "#There are NO duplicates for unique combination of User-ID and ISBN\n",
    "print(df2[df2['size'] > 1])"
   ]
  },
  {
   "cell_type": "code",
   "execution_count": null,
   "metadata": {},
   "outputs": [],
   "source": [
    "#check if one ISBN has multiple UserID's\n",
    "\n",
    "isbn_counts = df_ratings.groupby('ISBN').size()\n",
    "\n",
    "# Filter ISBNs with multiple UserIDs\n",
    "multiple_userids_isbn = isbn_counts[isbn_counts > 1]\n",
    "\n",
    "# Display ISBNs with multiple UserIDs\n",
    "print(multiple_userids_isbn)\n",
    "\n"
   ]
  },
  {
   "cell_type": "markdown",
   "metadata": {},
   "source": [
    "Python function for data cleaning of Ratings csv file\n",
    "\n",
    "- Renaming Columns\n",
    "- Checking for duplicates if any\n",
    "- Checking missing / null values"
   ]
  },
  {
   "cell_type": "code",
   "execution_count": 30,
   "metadata": {},
   "outputs": [],
   "source": [
    "#Perform data cleaning operations on a DataFrame using pandas built-in functions.\n",
    "\n",
    "def datacleaning_rating(df_ratings):\n",
    "    \n",
    "    # Rename columns\n",
    "    column_name_mapping = {\n",
    "    'User-ID': 'user_id',\n",
    "    'ISBN': 'isbn',\n",
    "    'Book-Rating': 'book_rating',\n",
    "    # Add more mappings as needed\n",
    "}\n",
    "# Use the rename method to rename the columns\n",
    "    df_ratings.rename(columns=column_name_mapping, inplace=True)\n",
    "    print(df_ratings.columns)\n",
    "\n",
    "    # Check for and display duplicate rows\n",
    "    duplicate_rows = df_ratings[df_ratings.duplicated(keep=False)]\n",
    "    print(\"Duplicate Rows:\")\n",
    "    print(duplicate_rows)\n",
    "\n",
    "    # Check for and display rows with missing values\n",
    "    missing_values = df_ratings[df_ratings.isna().any(axis=1)]\n",
    "    print(\"\\nRows with Missing Values:\")\n",
    "    print(missing_values)\n",
    "\n",
    "    return df_ratings"
   ]
  },
  {
   "cell_type": "code",
   "execution_count": null,
   "metadata": {},
   "outputs": [],
   "source": [
    "datacleaning_rating(df_ratings)"
   ]
  },
  {
   "cell_type": "markdown",
   "metadata": {},
   "source": [
    "- Checking if ISBN has special characters or not"
   ]
  },
  {
   "cell_type": "code",
   "execution_count": null,
   "metadata": {},
   "outputs": [],
   "source": [
    "## checking ISBN\n",
    "import re\n",
    "flag = 0\n",
    "k =[]\n",
    "reg = \"[^A-Za-z0-9]\"\n",
    "\n",
    "for x in df_ratings['isbn']:\n",
    "    z = re.search(reg,x)    \n",
    "    if z:\n",
    "        flag = 1\n",
    "\n",
    "if flag == 1:\n",
    "    print(\"False\")\n",
    "else:\n",
    "    print(\"True\")"
   ]
  },
  {
   "cell_type": "markdown",
   "metadata": {},
   "source": [
    "- Removing special characters from ratings.ISBN column"
   ]
  },
  {
   "cell_type": "code",
   "execution_count": 25,
   "metadata": {},
   "outputs": [],
   "source": [
    "## removing extra characters from ISBN (from ratings dataset)\n",
    "ratingISBN = df_ratings['isbn'].tolist() \n",
    "reg = \"[^A-Za-z0-9]\" \n",
    "# Use a for loop to iterate over each row in the DataFrame\n",
    "for index, row in df_ratings.iterrows():\n",
    "    # Apply the regular expression to the 'ISBN' column\n",
    "    cleaned_isbn = re.sub(reg, \"\", row['isbn'])\n",
    "    # Update the 'ISBN' column with the cleaned value\n",
    "    df_ratings.at[index, 'isbn'] = cleaned_isbn"
   ]
  },
  {
   "cell_type": "markdown",
   "metadata": {},
   "source": [
    "## Data Cleaning for Each Table"
   ]
  },
  {
   "cell_type": "markdown",
   "metadata": {},
   "source": [
    "## Exploratory Data Analysis for Each Table"
   ]
  },
  {
   "cell_type": "markdown",
   "metadata": {},
   "source": [
    "### Statistical Summary"
   ]
  },
  {
   "cell_type": "code",
   "execution_count": null,
   "metadata": {},
   "outputs": [],
   "source": [
    "df_ratings.describe(include='all')"
   ]
  },
  {
   "cell_type": "markdown",
   "metadata": {},
   "source": [
    "- separate Numerical and categorical variables for easy analysis"
   ]
  },
  {
   "cell_type": "code",
   "execution_count": null,
   "metadata": {},
   "outputs": [],
   "source": [
    "cat_cols=df_ratings.select_dtypes(include=['object']).columns\n",
    "num_cols = df_ratings.select_dtypes(include=np.number).columns.tolist()\n",
    "print(\"Categorical Variables:\")\n",
    "print(cat_cols)\n",
    "print(\"Numerical Variables:\")\n",
    "print(num_cols)"
   ]
  },
  {
   "cell_type": "markdown",
   "metadata": {},
   "source": [
    "- EDA Univariate Analysis\n"
   ]
  },
  {
   "cell_type": "code",
   "execution_count": null,
   "metadata": {},
   "outputs": [],
   "source": [
    "for col in num_cols:\n",
    "    print(col)\n",
    "    print('Skew :', round(df_ratings[col].skew(), 2))\n",
    "    plt.figure(figsize = (15, 4))\n",
    "    plt.subplot(1, 2, 1)\n",
    "    df_ratings[col].hist(grid=False)\n",
    "    plt.ylabel('count')\n",
    "    plt.subplot(1, 2, 2)\n",
    "    sns.boxplot(x=df_ratings[col])\n",
    "    plt.show()"
   ]
  },
  {
   "cell_type": "markdown",
   "metadata": {},
   "source": [
    "- Data Visulation based on book ratings ( 0 rating included)"
   ]
  },
  {
   "cell_type": "code",
   "execution_count": null,
   "metadata": {},
   "outputs": [],
   "source": [
    "plt.figure(figsize=(6,4))\n",
    "sns.countplot(x=\"book_rating\", data=df_ratings)"
   ]
  },
  {
   "cell_type": "code",
   "execution_count": null,
   "metadata": {},
   "outputs": [],
   "source": [
    "## Explicit Ratings (Excluded rating 0 for better visualization)\n",
    "plt.figure(figsize=(8,6))\n",
    "data = df_ratings[df_ratings['book_rating'] != 0]\n",
    "sns.countplot(x=\"book_rating\", data=data)\n",
    "plt.title(\"Explicit Ratings\")"
   ]
  },
  {
   "cell_type": "code",
   "execution_count": null,
   "metadata": {},
   "outputs": [],
   "source": [
    "#Description of book rating\n",
    "df_ratings['book_rating'].describe()"
   ]
  },
  {
   "cell_type": "markdown",
   "metadata": {},
   "source": [
    "### Observation - Book-Ratings are  distributed with median rating of 3"
   ]
  },
  {
   "cell_type": "code",
   "execution_count": null,
   "metadata": {},
   "outputs": [],
   "source": [
    "plt.figure(figsize=(13,17))\n",
    "sns.pairplot(data=df_ratings.drop(['isbn'],axis=1))\n",
    "plt.show()"
   ]
  },
  {
   "cell_type": "code",
   "execution_count": 33,
   "metadata": {},
   "outputs": [
    {
     "name": "stdout",
     "output_type": "stream",
     "text": [
      "              isbn  book_rating\n",
      "25486   0316666343          692\n",
      "43466   0385504209          475\n",
      "21627   0312195516          369\n",
      "87465   0679781587          329\n",
      "5087    0060928336          312\n",
      "...            ...          ...\n",
      "75387   0590313126            1\n",
      "75386   0590312758            1\n",
      "75385   059031257X            1\n",
      "75384   0590312464            1\n",
      "179221  ooo7156103            1\n",
      "\n",
      "[179222 rows x 2 columns]\n"
     ]
    }
   ],
   "source": [
    "#Selecting Books with Optimum Number of Ratings (>5)\n",
    "\n",
    "# counting the ratings >=5 by grouping ISBN and sort by ratings in desc order\n",
    "isbn_rating_desc = df_ratings[df_ratings['book_rating'] >= 5].groupby(['isbn'])['book_rating'].count().reset_index().sort_values('book_rating', ascending=False)\n",
    "print(isbn_rating_desc)"
   ]
  },
  {
   "cell_type": "code",
   "execution_count": null,
   "metadata": {},
   "outputs": [],
   "source": [
    "#Considering all the counts greater than 5\n",
    "rating_5plus=isbn_rating_desc[isbn_rating_desc['book_rating']>5]['isbn']\n",
    "print(rating_5plus)"
   ]
  },
  {
   "cell_type": "code",
   "execution_count": null,
   "metadata": {},
   "outputs": [],
   "source": [
    "# Convert 'ISBN' to category type for better visualization\n",
    "df_ratings['ISBN'] = df_ratings['ISBN'].astype('category')\n",
    "\n",
    "# Create a pair plot\n",
    "sns.pairplot(df_ratings, hue='ISBN', markers='o', palette='viridis')\n",
    "\n",
    "plt.show()"
   ]
  },
  {
   "cell_type": "markdown",
   "metadata": {},
   "source": [
    "## Merge Tables"
   ]
  },
  {
   "cell_type": "markdown",
   "metadata": {},
   "source": [
    "## Data Cleaning"
   ]
  },
  {
   "cell_type": "markdown",
   "metadata": {},
   "source": [
    "## Exploratory Data Analysis"
   ]
  },
  {
   "cell_type": "markdown",
   "metadata": {},
   "source": [
    "## Pipline Architecture"
   ]
  },
  {
   "cell_type": "markdown",
   "metadata": {},
   "source": [
    "## Sample Size"
   ]
  },
  {
   "cell_type": "markdown",
   "metadata": {},
   "source": [
    "## Modelling"
   ]
  },
  {
   "cell_type": "markdown",
   "metadata": {},
   "source": [
    "## Evaluation"
   ]
  },
  {
   "cell_type": "markdown",
   "metadata": {},
   "source": [
    "## Error Analysis"
   ]
  }
 ],
 "metadata": {
  "kernelspec": {
   "display_name": ".venv",
   "language": "python",
   "name": "python3"
  },
  "language_info": {
   "codemirror_mode": {
    "name": "ipython",
    "version": 3
   },
   "file_extension": ".py",
   "mimetype": "text/x-python",
   "name": "python",
   "nbconvert_exporter": "python",
   "pygments_lexer": "ipython3",
   "version": "3.11.3"
  }
 },
 "nbformat": 4,
 "nbformat_minor": 2
}
