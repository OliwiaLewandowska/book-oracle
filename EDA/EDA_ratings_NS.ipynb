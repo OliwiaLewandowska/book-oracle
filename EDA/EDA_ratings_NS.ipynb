{
 "cells": [
  {
   "cell_type": "markdown",
   "metadata": {},
   "source": [
    "# Book-Oracle"
   ]
  },
  {
   "cell_type": "markdown",
   "metadata": {},
   "source": [
    "Book-Oracle is a book recommendation apps which suggest books based on preferences."
   ]
  },
  {
   "cell_type": "markdown",
   "metadata": {},
   "source": [
    "## Import Libraries"
   ]
  },
  {
   "cell_type": "code",
   "execution_count": 1,
   "metadata": {},
   "outputs": [],
   "source": [
    "import pandas as pd\n",
    "import numpy as np\n",
    "\n",
    "#modelling\n",
    "from sklearn.preprocessing import StandardScaler\n",
    "from sklearn.preprocessing import MinMaxScaler\n",
    "from sklearn.model_selection import train_test_split\n",
    "from sklearn.metrics import accuracy_score\n",
    "from sklearn.datasets import make_classification\n",
    "from sklearn.linear_model import LogisticRegression, SGDClassifier\n",
    "from sklearn.metrics import fbeta_score, make_scorer\n",
    "from sklearn.metrics import confusion_matrix\n",
    "from sklearn import metrics\n",
    "from sklearn.metrics import classification_report\n",
    "from sklearn.model_selection import GridSearchCV, RandomizedSearchCV\n",
    "from sklearn.model_selection import RepeatedStratifiedKFold\n",
    "from scipy.stats import loguniform\n",
    "from sklearn.model_selection import train_test_split\n",
    "from sklearn.feature_extraction.text import CountVectorizer, TfidfVectorizer\n",
    "from sklearn.linear_model import LogisticRegression\n",
    "from sklearn.metrics import roc_auc_score\n",
    "#from transformers import pipeline\n",
    "#from tqdm import tqdm\n",
    "#import nltk\n",
    "\n",
    "\n",
    "#plotting\n",
    "import matplotlib.pyplot as plt\n",
    "import seaborn as sns\n",
    "from matplotlib.ticker import PercentFormatter\n",
    "plt.rcParams.update({ \"figure.figsize\" : (8, 5),\"axes.facecolor\" : \"white\", \"axes.edgecolor\":  \"black\"})\n",
    "plt.rcParams[\"figure.facecolor\"]= \"w\"\n",
    "pd.plotting.register_matplotlib_converters()\n",
    "pd.set_option('display.float_format', lambda x: '%.3f' % x)\n",
    "pd.options.display.float_format = \"{:,.2f}\".format\n",
    "\n",
    "import warnings\n",
    "warnings.filterwarnings('ignore')\n",
    "\n",
    "RSEED = 42"
   ]
  },
  {
   "cell_type": "markdown",
   "metadata": {},
   "source": [
    "## Import Data"
   ]
  },
  {
   "cell_type": "code",
   "execution_count": 5,
   "metadata": {},
   "outputs": [],
   "source": [
    "# Import data for ratings csv file\n",
    "df_ratings = pd.read_csv(\"data/Ratings.csv\")"
   ]
  },
  {
   "cell_type": "code",
   "execution_count": 6,
   "metadata": {},
   "outputs": [
    {
     "data": {
      "text/plain": [
       "(1149780, 3)"
      ]
     },
     "execution_count": 6,
     "metadata": {},
     "output_type": "execute_result"
    }
   ],
   "source": [
    "#Checking no of rows and columns in dataframe\n",
    "df_ratings.shape"
   ]
  },
  {
   "cell_type": "code",
   "execution_count": 7,
   "metadata": {},
   "outputs": [
    {
     "data": {
      "text/html": [
       "<div>\n",
       "<style scoped>\n",
       "    .dataframe tbody tr th:only-of-type {\n",
       "        vertical-align: middle;\n",
       "    }\n",
       "\n",
       "    .dataframe tbody tr th {\n",
       "        vertical-align: top;\n",
       "    }\n",
       "\n",
       "    .dataframe thead th {\n",
       "        text-align: right;\n",
       "    }\n",
       "</style>\n",
       "<table border=\"1\" class=\"dataframe\">\n",
       "  <thead>\n",
       "    <tr style=\"text-align: right;\">\n",
       "      <th></th>\n",
       "      <th>User-ID</th>\n",
       "      <th>Book-Rating</th>\n",
       "    </tr>\n",
       "  </thead>\n",
       "  <tbody>\n",
       "    <tr>\n",
       "      <th>count</th>\n",
       "      <td>1,149,780.00</td>\n",
       "      <td>1,149,780.00</td>\n",
       "    </tr>\n",
       "    <tr>\n",
       "      <th>mean</th>\n",
       "      <td>140,386.40</td>\n",
       "      <td>2.87</td>\n",
       "    </tr>\n",
       "    <tr>\n",
       "      <th>std</th>\n",
       "      <td>80,562.28</td>\n",
       "      <td>3.85</td>\n",
       "    </tr>\n",
       "    <tr>\n",
       "      <th>min</th>\n",
       "      <td>2.00</td>\n",
       "      <td>0.00</td>\n",
       "    </tr>\n",
       "    <tr>\n",
       "      <th>25%</th>\n",
       "      <td>70,345.00</td>\n",
       "      <td>0.00</td>\n",
       "    </tr>\n",
       "    <tr>\n",
       "      <th>50%</th>\n",
       "      <td>141,010.00</td>\n",
       "      <td>0.00</td>\n",
       "    </tr>\n",
       "    <tr>\n",
       "      <th>75%</th>\n",
       "      <td>211,028.00</td>\n",
       "      <td>7.00</td>\n",
       "    </tr>\n",
       "    <tr>\n",
       "      <th>max</th>\n",
       "      <td>278,854.00</td>\n",
       "      <td>10.00</td>\n",
       "    </tr>\n",
       "  </tbody>\n",
       "</table>\n",
       "</div>"
      ],
      "text/plain": [
       "           User-ID  Book-Rating\n",
       "count 1,149,780.00 1,149,780.00\n",
       "mean    140,386.40         2.87\n",
       "std      80,562.28         3.85\n",
       "min           2.00         0.00\n",
       "25%      70,345.00         0.00\n",
       "50%     141,010.00         0.00\n",
       "75%     211,028.00         7.00\n",
       "max     278,854.00        10.00"
      ]
     },
     "execution_count": 7,
     "metadata": {},
     "output_type": "execute_result"
    }
   ],
   "source": [
    "#Descriptive Stats \n",
    "df_ratings.describe()"
   ]
  },
  {
   "cell_type": "code",
   "execution_count": 8,
   "metadata": {},
   "outputs": [
    {
     "name": "stdout",
     "output_type": "stream",
     "text": [
      "<class 'pandas.core.frame.DataFrame'>\n",
      "RangeIndex: 1149780 entries, 0 to 1149779\n",
      "Data columns (total 3 columns):\n",
      " #   Column       Non-Null Count    Dtype \n",
      "---  ------       --------------    ----- \n",
      " 0   User-ID      1149780 non-null  int64 \n",
      " 1   ISBN         1149780 non-null  object\n",
      " 2   Book-Rating  1149780 non-null  int64 \n",
      "dtypes: int64(2), object(1)\n",
      "memory usage: 26.3+ MB\n"
     ]
    }
   ],
   "source": [
    "#Checking datatypes of columns in ratings dataframe\n",
    "df_ratings.info()"
   ]
  },
  {
   "cell_type": "markdown",
   "metadata": {},
   "source": [
    "(ISBN) is a 13-digit number that uniquely identifies books and book-like products published internationally."
   ]
  },
  {
   "cell_type": "code",
   "execution_count": 9,
   "metadata": {},
   "outputs": [
    {
     "name": "stdout",
     "output_type": "stream",
     "text": [
      "0          10\n",
      "1          10\n",
      "2          10\n",
      "3          10\n",
      "4          10\n",
      "           ..\n",
      "1149775    10\n",
      "1149776    10\n",
      "1149777    10\n",
      "1149778    10\n",
      "1149779    11\n",
      "Name: ISBN, Length: 1149780, dtype: int64\n"
     ]
    }
   ],
   "source": [
    "#Checking the string length of ISBN cell values\n",
    "ISBNCount = df_ratings['ISBN'].str.len()\n",
    "print(ISBNCount)"
   ]
  },
  {
   "cell_type": "code",
   "execution_count": 10,
   "metadata": {},
   "outputs": [
    {
     "data": {
      "text/plain": [
       "array([10,  9, 11,  8, 12, 13, 14])"
      ]
     },
     "execution_count": 10,
     "metadata": {},
     "output_type": "execute_result"
    }
   ],
   "source": [
    "# There are 7 unique ISBN values\n",
    "ISBNCount.unique()"
   ]
  },
  {
   "cell_type": "code",
   "execution_count": 11,
   "metadata": {},
   "outputs": [],
   "source": [
    "#Total rows with All ISBN's = 1149780\n",
    "#Count of ISBN's with str(len) as 13 = 1740\n",
    "#Count of ISBN's with str(len) as 10 = 1139363\n",
    "#Count of ISBN's with str(len) as 9 = 5140\n",
    "df_13 = df_ratings[df_ratings['ISBN'].str.len()==9]"
   ]
  },
  {
   "cell_type": "code",
   "execution_count": 12,
   "metadata": {},
   "outputs": [
    {
     "data": {
      "text/plain": [
       "0"
      ]
     },
     "execution_count": 12,
     "metadata": {},
     "output_type": "execute_result"
    }
   ],
   "source": [
    "df_ratings.duplicated().sum()"
   ]
  },
  {
   "cell_type": "code",
   "execution_count": 13,
   "metadata": {},
   "outputs": [
    {
     "name": "stdout",
     "output_type": "stream",
     "text": [
      "105283\n",
      "340556\n"
     ]
    }
   ],
   "source": [
    "print(df_ratings['User-ID'].nunique()) #105283\n",
    "print(df_ratings['ISBN'].nunique()) #340556"
   ]
  },
  {
   "cell_type": "code",
   "execution_count": 14,
   "metadata": {},
   "outputs": [
    {
     "name": "stdout",
     "output_type": "stream",
     "text": [
      "User-ID  ISBN      \n",
      "2        0195153448    1\n",
      "7        034542252     1\n",
      "8        0002005018    1\n",
      "         0060973129    1\n",
      "         0374157065    1\n",
      "                      ..\n",
      "278854   0425163393    1\n",
      "         0515087122    1\n",
      "         0553275739    1\n",
      "         0553578596    1\n",
      "         0553579606    1\n",
      "Length: 1149780, dtype: int64\n"
     ]
    }
   ],
   "source": [
    "# Get count duplicates multiple columns using dataframe.pivot_table() \n",
    "\n",
    "#Here one User-ID has given ratings for MORE than ONE ISBN(book)\n",
    "\n",
    "df2 = df_ratings.pivot_table(index = ['User-ID', 'ISBN'], aggfunc ='size')\n",
    "print(df2)"
   ]
  },
  {
   "cell_type": "markdown",
   "metadata": {},
   "source": [
    "NOTE : One User can rate multiple books (ISBN) likewise a Book(ISBN) can have ratings from multiple Users\n",
    "\n",
    "Its M-M relationship\n",
    "\n",
    "\n",
    "So there are NO duplicate entries in Ratings table"
   ]
  },
  {
   "cell_type": "code",
   "execution_count": 15,
   "metadata": {},
   "outputs": [
    {
     "name": "stdout",
     "output_type": "stream",
     "text": [
      "Empty DataFrame\n",
      "Columns: [User-ID, ISBN, Book-Rating, size]\n",
      "Index: []\n"
     ]
    }
   ],
   "source": [
    "#Get Count Duplicates for Each Unique Row\n",
    "\n",
    "df2 = df_ratings.groupby(df_ratings.columns.tolist(), as_index=False).size()\n",
    "\n",
    "#There are NO duplicates for unique combination of User-ID and ISBN\n",
    "print(df2[df2['size'] > 1])\n"
   ]
  },
  {
   "cell_type": "code",
   "execution_count": 16,
   "metadata": {},
   "outputs": [
    {
     "name": "stdout",
     "output_type": "stream",
     "text": [
      "ISBN\n",
      " 0330299891       2\n",
      " 0375404120       2\n",
      " 9022906116       2\n",
      "*0452281903       2\n",
      "+0451197399       2\n",
      "                 ..\n",
      "XXXXXXXXXX        2\n",
      "ZR903CX0003       3\n",
      "\\0432534220\\\"\"    3\n",
      "\\2842053052\\\"\"    2\n",
      "`3502103682       2\n",
      "Length: 143511, dtype: int64\n"
     ]
    }
   ],
   "source": [
    "#check if one ISBN has multiple UserID's\n",
    "\n",
    "isbn_counts = df_ratings.groupby('ISBN').size()\n",
    "\n",
    "# Filter ISBNs with multiple UserIDs\n",
    "multiple_userids_isbn = isbn_counts[isbn_counts > 1]\n",
    "\n",
    "# Display ISBNs with multiple UserIDs\n",
    "print(multiple_userids_isbn)\n",
    "\n"
   ]
  },
  {
   "cell_type": "code",
   "execution_count": 17,
   "metadata": {},
   "outputs": [],
   "source": [
    "#Rename column names\n",
    "\n",
    "column_name_mapping = {\n",
    "    'User-ID': 'user_id',\n",
    "    'Book-Rating': 'book_rating',\n",
    "    # Add more mappings as needed\n",
    "}\n",
    "\n",
    "# Use the rename method to rename the columns\n",
    "df_ratings.rename(columns=column_name_mapping, inplace=True)"
   ]
  },
  {
   "cell_type": "markdown",
   "metadata": {},
   "source": [
    "Python function for data cleaning of Ratings csv file\n",
    "\n",
    "- Renaming Columns\n",
    "- Checking for duplicates if any\n",
    "- Checking missing / null values"
   ]
  },
  {
   "cell_type": "code",
   "execution_count": 18,
   "metadata": {},
   "outputs": [],
   "source": [
    "#Perform data cleaning operations on a DataFrame using pandas built-in functions.\n",
    "\n",
    "def dataclean_rating(df_ratings):\n",
    "    \n",
    "    # Rename columns\n",
    "    column_name_mapping = {\n",
    "    'User-ID': 'user_id',\n",
    "    'Book-Rating': 'book_rating',\n",
    "    # Add more mappings as needed\n",
    "}\n",
    "# Use the rename method to rename the columns\n",
    "    df_ratings.rename(columns=column_name_mapping, inplace=True)\n",
    "    print(df_ratings.columns)\n",
    "\n",
    "    # Check for and display duplicate rows\n",
    "    duplicate_rows = df_ratings[df_ratings.duplicated(keep=False)]\n",
    "    print(\"Duplicate Rows:\")\n",
    "    print(duplicate_rows)\n",
    "\n",
    "    # Check for and display rows with missing values\n",
    "    missing_values = df_ratings[df_ratings.isna().any(axis=1)]\n",
    "    print(\"\\nRows with Missing Values:\")\n",
    "    print(missing_values)\n",
    "\n",
    "    return df_ratings"
   ]
  },
  {
   "cell_type": "code",
   "execution_count": 19,
   "metadata": {},
   "outputs": [
    {
     "name": "stdout",
     "output_type": "stream",
     "text": [
      "Index(['user_id', 'ISBN', 'book_rating'], dtype='object')\n",
      "Duplicate Rows:\n",
      "Empty DataFrame\n",
      "Columns: [user_id, ISBN, book_rating]\n",
      "Index: []\n",
      "\n",
      "Rows with Missing Values:\n",
      "Empty DataFrame\n",
      "Columns: [user_id, ISBN, book_rating]\n",
      "Index: []\n"
     ]
    },
    {
     "data": {
      "text/html": [
       "<div>\n",
       "<style scoped>\n",
       "    .dataframe tbody tr th:only-of-type {\n",
       "        vertical-align: middle;\n",
       "    }\n",
       "\n",
       "    .dataframe tbody tr th {\n",
       "        vertical-align: top;\n",
       "    }\n",
       "\n",
       "    .dataframe thead th {\n",
       "        text-align: right;\n",
       "    }\n",
       "</style>\n",
       "<table border=\"1\" class=\"dataframe\">\n",
       "  <thead>\n",
       "    <tr style=\"text-align: right;\">\n",
       "      <th></th>\n",
       "      <th>user_id</th>\n",
       "      <th>ISBN</th>\n",
       "      <th>book_rating</th>\n",
       "    </tr>\n",
       "  </thead>\n",
       "  <tbody>\n",
       "    <tr>\n",
       "      <th>0</th>\n",
       "      <td>276725</td>\n",
       "      <td>034545104X</td>\n",
       "      <td>0</td>\n",
       "    </tr>\n",
       "    <tr>\n",
       "      <th>1</th>\n",
       "      <td>276726</td>\n",
       "      <td>0155061224</td>\n",
       "      <td>5</td>\n",
       "    </tr>\n",
       "    <tr>\n",
       "      <th>2</th>\n",
       "      <td>276727</td>\n",
       "      <td>0446520802</td>\n",
       "      <td>0</td>\n",
       "    </tr>\n",
       "    <tr>\n",
       "      <th>3</th>\n",
       "      <td>276729</td>\n",
       "      <td>052165615X</td>\n",
       "      <td>3</td>\n",
       "    </tr>\n",
       "    <tr>\n",
       "      <th>4</th>\n",
       "      <td>276729</td>\n",
       "      <td>0521795028</td>\n",
       "      <td>6</td>\n",
       "    </tr>\n",
       "    <tr>\n",
       "      <th>...</th>\n",
       "      <td>...</td>\n",
       "      <td>...</td>\n",
       "      <td>...</td>\n",
       "    </tr>\n",
       "    <tr>\n",
       "      <th>1149775</th>\n",
       "      <td>276704</td>\n",
       "      <td>1563526298</td>\n",
       "      <td>9</td>\n",
       "    </tr>\n",
       "    <tr>\n",
       "      <th>1149776</th>\n",
       "      <td>276706</td>\n",
       "      <td>0679447156</td>\n",
       "      <td>0</td>\n",
       "    </tr>\n",
       "    <tr>\n",
       "      <th>1149777</th>\n",
       "      <td>276709</td>\n",
       "      <td>0515107662</td>\n",
       "      <td>10</td>\n",
       "    </tr>\n",
       "    <tr>\n",
       "      <th>1149778</th>\n",
       "      <td>276721</td>\n",
       "      <td>0590442449</td>\n",
       "      <td>10</td>\n",
       "    </tr>\n",
       "    <tr>\n",
       "      <th>1149779</th>\n",
       "      <td>276723</td>\n",
       "      <td>05162443314</td>\n",
       "      <td>8</td>\n",
       "    </tr>\n",
       "  </tbody>\n",
       "</table>\n",
       "<p>1149780 rows × 3 columns</p>\n",
       "</div>"
      ],
      "text/plain": [
       "         user_id         ISBN  book_rating\n",
       "0         276725   034545104X            0\n",
       "1         276726   0155061224            5\n",
       "2         276727   0446520802            0\n",
       "3         276729   052165615X            3\n",
       "4         276729   0521795028            6\n",
       "...          ...          ...          ...\n",
       "1149775   276704   1563526298            9\n",
       "1149776   276706   0679447156            0\n",
       "1149777   276709   0515107662           10\n",
       "1149778   276721   0590442449           10\n",
       "1149779   276723  05162443314            8\n",
       "\n",
       "[1149780 rows x 3 columns]"
      ]
     },
     "execution_count": 19,
     "metadata": {},
     "output_type": "execute_result"
    }
   ],
   "source": [
    "dataclean_rating(df_ratings)"
   ]
  },
  {
   "cell_type": "markdown",
   "metadata": {},
   "source": [
    "## Data Cleaning for Each Table"
   ]
  },
  {
   "cell_type": "markdown",
   "metadata": {},
   "source": [
    "## Exploratory Data Analysis for Each Table"
   ]
  },
  {
   "cell_type": "markdown",
   "metadata": {},
   "source": [
    "### Statistical Summary"
   ]
  },
  {
   "cell_type": "code",
   "execution_count": 24,
   "metadata": {},
   "outputs": [
    {
     "data": {
      "text/html": [
       "<div>\n",
       "<style scoped>\n",
       "    .dataframe tbody tr th:only-of-type {\n",
       "        vertical-align: middle;\n",
       "    }\n",
       "\n",
       "    .dataframe tbody tr th {\n",
       "        vertical-align: top;\n",
       "    }\n",
       "\n",
       "    .dataframe thead th {\n",
       "        text-align: right;\n",
       "    }\n",
       "</style>\n",
       "<table border=\"1\" class=\"dataframe\">\n",
       "  <thead>\n",
       "    <tr style=\"text-align: right;\">\n",
       "      <th></th>\n",
       "      <th>user_id</th>\n",
       "      <th>ISBN</th>\n",
       "      <th>book_rating</th>\n",
       "    </tr>\n",
       "  </thead>\n",
       "  <tbody>\n",
       "    <tr>\n",
       "      <th>count</th>\n",
       "      <td>1,149,780.00</td>\n",
       "      <td>1149780</td>\n",
       "      <td>1,149,780.00</td>\n",
       "    </tr>\n",
       "    <tr>\n",
       "      <th>unique</th>\n",
       "      <td>NaN</td>\n",
       "      <td>340556</td>\n",
       "      <td>NaN</td>\n",
       "    </tr>\n",
       "    <tr>\n",
       "      <th>top</th>\n",
       "      <td>NaN</td>\n",
       "      <td>0971880107</td>\n",
       "      <td>NaN</td>\n",
       "    </tr>\n",
       "    <tr>\n",
       "      <th>freq</th>\n",
       "      <td>NaN</td>\n",
       "      <td>2502</td>\n",
       "      <td>NaN</td>\n",
       "    </tr>\n",
       "    <tr>\n",
       "      <th>mean</th>\n",
       "      <td>140,386.40</td>\n",
       "      <td>NaN</td>\n",
       "      <td>2.87</td>\n",
       "    </tr>\n",
       "    <tr>\n",
       "      <th>std</th>\n",
       "      <td>80,562.28</td>\n",
       "      <td>NaN</td>\n",
       "      <td>3.85</td>\n",
       "    </tr>\n",
       "    <tr>\n",
       "      <th>min</th>\n",
       "      <td>2.00</td>\n",
       "      <td>NaN</td>\n",
       "      <td>0.00</td>\n",
       "    </tr>\n",
       "    <tr>\n",
       "      <th>25%</th>\n",
       "      <td>70,345.00</td>\n",
       "      <td>NaN</td>\n",
       "      <td>0.00</td>\n",
       "    </tr>\n",
       "    <tr>\n",
       "      <th>50%</th>\n",
       "      <td>141,010.00</td>\n",
       "      <td>NaN</td>\n",
       "      <td>0.00</td>\n",
       "    </tr>\n",
       "    <tr>\n",
       "      <th>75%</th>\n",
       "      <td>211,028.00</td>\n",
       "      <td>NaN</td>\n",
       "      <td>7.00</td>\n",
       "    </tr>\n",
       "    <tr>\n",
       "      <th>max</th>\n",
       "      <td>278,854.00</td>\n",
       "      <td>NaN</td>\n",
       "      <td>10.00</td>\n",
       "    </tr>\n",
       "  </tbody>\n",
       "</table>\n",
       "</div>"
      ],
      "text/plain": [
       "            user_id        ISBN  book_rating\n",
       "count  1,149,780.00     1149780 1,149,780.00\n",
       "unique          NaN      340556          NaN\n",
       "top             NaN  0971880107          NaN\n",
       "freq            NaN        2502          NaN\n",
       "mean     140,386.40         NaN         2.87\n",
       "std       80,562.28         NaN         3.85\n",
       "min            2.00         NaN         0.00\n",
       "25%       70,345.00         NaN         0.00\n",
       "50%      141,010.00         NaN         0.00\n",
       "75%      211,028.00         NaN         7.00\n",
       "max      278,854.00         NaN        10.00"
      ]
     },
     "execution_count": 24,
     "metadata": {},
     "output_type": "execute_result"
    }
   ],
   "source": [
    "df_ratings.describe(include='all')"
   ]
  },
  {
   "cell_type": "markdown",
   "metadata": {},
   "source": [
    "- Data Visulation based on book ratings ( 0 rating included)"
   ]
  },
  {
   "cell_type": "code",
   "execution_count": 25,
   "metadata": {},
   "outputs": [
    {
     "data": {
      "text/plain": [
       "<Axes: xlabel='book_rating', ylabel='count'>"
      ]
     },
     "execution_count": 25,
     "metadata": {},
     "output_type": "execute_result"
    },
    {
     "data": {
      "image/png": "[encoded data removed]",
      "text/plain": [
       "<Figure size 600x400 with 1 Axes>"
      ]
     },
     "metadata": {},
     "output_type": "display_data"
    }
   ],
   "source": [
    "plt.figure(figsize=(6,4))\n",
    "sns.countplot(x=\"book_rating\", data=df_ratings)"
   ]
  },
  {
   "cell_type": "code",
   "execution_count": 26,
   "metadata": {},
   "outputs": [
    {
     "data": {
      "text/plain": [
       "Text(0.5, 1.0, 'Explicit Ratings')"
      ]
     },
     "execution_count": 26,
     "metadata": {},
     "output_type": "execute_result"
    },
    {
     "data": {
      "image/png": "[encoded data removed]",
      "text/plain": [
       "<Figure size 800x600 with 1 Axes>"
      ]
     },
     "metadata": {},
     "output_type": "display_data"
    }
   ],
   "source": [
    "## Explicit Ratings (Excluded rating 0 for better visualization)\n",
    "plt.figure(figsize=(8,6))\n",
    "data = df_ratings[df_ratings['book_rating'] != 0]\n",
    "sns.countplot(x=\"book_rating\", data=data)\n",
    "plt.title(\"Explicit Ratings\")"
   ]
  },
  {
   "cell_type": "code",
   "execution_count": 27,
   "metadata": {},
   "outputs": [
    {
     "data": {
      "text/plain": [
       "count   1,149,780.00\n",
       "mean            2.87\n",
       "std             3.85\n",
       "min             0.00\n",
       "25%             0.00\n",
       "50%             0.00\n",
       "75%             7.00\n",
       "max            10.00\n",
       "Name: book_rating, dtype: float64"
      ]
     },
     "execution_count": 27,
     "metadata": {},
     "output_type": "execute_result"
    }
   ],
   "source": [
    "#Description of book rating\n",
    "df_ratings['book_rating'].describe()"
   ]
  },
  {
   "cell_type": "markdown",
   "metadata": {},
   "source": [
    "### Observation - Book-Ratings are  distributed with median rating of 3"
   ]
  },
  {
   "cell_type": "code",
   "execution_count": 28,
   "metadata": {},
   "outputs": [
    {
     "data": {
      "text/plain": [
       "<Figure size 1300x1700 with 0 Axes>"
      ]
     },
     "metadata": {},
     "output_type": "display_data"
    },
    {
     "data": {
      "image/png": "[encoded data removed]",
      "text/plain": [
       "<Figure size 500x500 with 6 Axes>"
      ]
     },
     "metadata": {},
     "output_type": "display_data"
    }
   ],
   "source": [
    "plt.figure(figsize=(13,17))\n",
    "sns.pairplot(data=df_ratings.drop(['ISBN'],axis=1))\n",
    "plt.show()"
   ]
  },
  {
   "cell_type": "code",
   "execution_count": 20,
   "metadata": {},
   "outputs": [
    {
     "name": "stdout",
     "output_type": "stream",
     "text": [
      "              ISBN  book_rating\n",
      "25604   0316666343          692\n",
      "43584   0385504209          475\n",
      "21743   0312195516          369\n",
      "87590   0679781587          329\n",
      "5113    0060928336          312\n",
      "...            ...          ...\n",
      "75425   059025507X            1\n",
      "75422   0590254812            1\n",
      "75421   0590254804            1\n",
      "75420   0590254790            1\n",
      "179375   Ô½crosoft            1\n",
      "\n",
      "[179376 rows x 2 columns]\n"
     ]
    }
   ],
   "source": [
    "#Selecting Books with Optimum Number of Ratings (>5)\n",
    "\n",
    "# counting the ratings >=5 by grouping ISBN and sort by ratings in desc order\n",
    "isbn_rating_desc = df_ratings[df_ratings['book_rating'] >= 5].groupby(['ISBN'])['book_rating'].count().reset_index().sort_values('book_rating', ascending=False)\n",
    "print(isbn_rating_desc)"
   ]
  },
  {
   "cell_type": "code",
   "execution_count": 21,
   "metadata": {},
   "outputs": [],
   "source": [
    "# Import data for books csv file\n",
    "df_books = pd.read_csv(\"data/Books.csv\")\n",
    "df_merge = pd.merge(isbn_rating_desc.head(20), df_books, on=\"ISBN\" )"
   ]
  },
  {
   "cell_type": "code",
   "execution_count": 22,
   "metadata": {},
   "outputs": [
    {
     "data": {
      "image/png": "[encoded data removed]",
      "text/plain": [
       "<Figure size 1000x600 with 1 Axes>"
      ]
     },
     "metadata": {},
     "output_type": "display_data"
    }
   ],
   "source": [
    "#Visualise most rated books with rating above 5\n",
    "\n",
    "plt.figure(figsize=(10,6))\n",
    "sns.barplot(x='book_rating', y='Book-Title', data=df_merge)\n",
    "plt.title(\"Most Rated Books with Rating above 5\")\n",
    "plt.show()\n"
   ]
  },
  {
   "cell_type": "code",
   "execution_count": 2,
   "metadata": {},
   "outputs": [
    {
     "ename": "NameError",
     "evalue": "name 'df_ratings' is not defined",
     "output_type": "error",
     "traceback": [
      "\u001b[0;31m---------------------------------------------------------------------------\u001b[0m",
      "\u001b[0;31mNameError\u001b[0m                                 Traceback (most recent call last)",
      "\u001b[1;32m/Users/oliwia/neuefische/book-oracle/brs-neha.ipynb Cell 37\u001b[0m line \u001b[0;36m2\n\u001b[1;32m      <a href='vscode-notebook-cell:/Users/oliwia/neuefische/book-oracle/brs-neha.ipynb#X52sZmlsZQ%3D%3D?line=0'>1</a>\u001b[0m \u001b[39m# Convert 'ISBN' to category type for better visualization\u001b[39;00m\n\u001b[0;32m----> <a href='vscode-notebook-cell:/Users/oliwia/neuefische/book-oracle/brs-neha.ipynb#X52sZmlsZQ%3D%3D?line=1'>2</a>\u001b[0m df_ratings[\u001b[39m'\u001b[39m\u001b[39mISBN\u001b[39m\u001b[39m'\u001b[39m] \u001b[39m=\u001b[39m df_ratings[\u001b[39m'\u001b[39m\u001b[39mISBN\u001b[39m\u001b[39m'\u001b[39m]\u001b[39m.\u001b[39mastype(\u001b[39m'\u001b[39m\u001b[39mcategory\u001b[39m\u001b[39m'\u001b[39m)\n\u001b[1;32m      <a href='vscode-notebook-cell:/Users/oliwia/neuefische/book-oracle/brs-neha.ipynb#X52sZmlsZQ%3D%3D?line=3'>4</a>\u001b[0m \u001b[39m# Create a pair plot\u001b[39;00m\n\u001b[1;32m      <a href='vscode-notebook-cell:/Users/oliwia/neuefische/book-oracle/brs-neha.ipynb#X52sZmlsZQ%3D%3D?line=4'>5</a>\u001b[0m sns\u001b[39m.\u001b[39mpairplot(df_ratings, hue\u001b[39m=\u001b[39m\u001b[39m'\u001b[39m\u001b[39mISBN\u001b[39m\u001b[39m'\u001b[39m, markers\u001b[39m=\u001b[39m\u001b[39m'\u001b[39m\u001b[39mo\u001b[39m\u001b[39m'\u001b[39m, palette\u001b[39m=\u001b[39m\u001b[39m'\u001b[39m\u001b[39mviridis\u001b[39m\u001b[39m'\u001b[39m)\n",
      "\u001b[0;31mNameError\u001b[0m: name 'df_ratings' is not defined"
     ]
    }
   ],
   "source": [
    "# Convert 'ISBN' to category type for better visualization\n",
    "df_ratings['ISBN'] = df_ratings['ISBN'].astype('category')\n",
    "\n",
    "# Create a pair plot\n",
    "sns.pairplot(df_ratings, hue='ISBN', markers='o', palette='viridis')\n",
    "\n",
    "plt.show()"
   ]
  },
  {
   "cell_type": "markdown",
   "metadata": {},
   "source": [
    "## Merge Tables"
   ]
  },
  {
   "cell_type": "markdown",
   "metadata": {},
   "source": [
    "## Data Cleaning"
   ]
  },
  {
   "cell_type": "markdown",
   "metadata": {},
   "source": [
    "## Exploratory Data Analysis"
   ]
  },
  {
   "cell_type": "markdown",
   "metadata": {},
   "source": [
    "## Pipline Architecture"
   ]
  },
  {
   "cell_type": "markdown",
   "metadata": {},
   "source": [
    "## Sample Size"
   ]
  },
  {
   "cell_type": "markdown",
   "metadata": {},
   "source": [
    "## Modelling"
   ]
  },
  {
   "cell_type": "markdown",
   "metadata": {},
   "source": [
    "## Evaluation"
   ]
  },
  {
   "cell_type": "markdown",
   "metadata": {},
   "source": [
    "## Error Analysis"
   ]
  }
 ],
 "metadata": {
  "kernelspec": {
   "display_name": ".venv",
   "language": "python",
   "name": "python3"
  },
  "language_info": {
   "codemirror_mode": {
    "name": "ipython",
    "version": 3
   },
   "file_extension": ".py",
   "mimetype": "text/x-python",
   "name": "python",
   "nbconvert_exporter": "python",
   "pygments_lexer": "ipython3",
   "version": "3.11.3"
  }
 },
 "nbformat": 4,
 "nbformat_minor": 2
}
